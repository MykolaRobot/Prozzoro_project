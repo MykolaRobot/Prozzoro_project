{
  "nbformat": 4,
  "nbformat_minor": 0,
  "metadata": {
    "colab": {
      "name": "Run.ipynb",
      "version": "0.3.2",
      "provenance": [],
      "include_colab_link": true
    },
    "kernelspec": {
      "name": "python3",
      "display_name": "Python 3"
    }
  },
  "cells": [
    {
      "cell_type": "markdown",
      "metadata": {
        "id": "view-in-github",
        "colab_type": "text"
      },
      "source": [
        "<a href=\"https://colab.research.google.com/github/ShykerBogdan/Prozzoro_project/blob/master/Run.ipynb\" target=\"_parent\"><img src=\"https://colab.research.google.com/assets/colab-badge.svg\" alt=\"Open In Colab\"/></a>"
      ]
    },
    {
      "metadata": {
        "id": "4GnBFtkUeUvi",
        "colab_type": "code",
        "colab": {}
      },
      "cell_type": "code",
      "source": [
        "import pandas as pd\n",
        "items=pd.read_csv('/content/gdrive/My Drive/ML_proz/items_part.csv')\n",
        "items=items.drop_duplicates(subset='tender_id')\n",
        "items['deliveryDate_startDate']=items['deliveryDate_startDate'].astype(str).str[:10]\n",
        "items['deliveryDate_endDate']=items['deliveryDate_endDate'].astype(str).str[:10]\n",
        "x=['deliveryDate_startDate', 'deliveryDate_endDate']\n",
        "def get_delivery_days(raw):\n",
        "  try:\n",
        "    raw['delivery_days']=(pd.to_datetime(raw[x[1]])-pd.to_datetime(raw[x[0]])).days\n",
        "  except:\n",
        "    raw['delivery_days']=np.nan\n",
        "  return raw\n",
        "\n",
        "items=items.apply(get_delivery_days,axis=1)\n",
        "items[['tender_id','delivery_days']].to_csv('tender_delivery.csv',index=False)"
      ],
      "execution_count": 0,
      "outputs": []
    }
  ]
}