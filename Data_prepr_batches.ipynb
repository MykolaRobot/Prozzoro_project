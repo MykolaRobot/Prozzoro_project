{
  "nbformat": 4,
  "nbformat_minor": 0,
  "metadata": {
    "colab": {
      "name": "Data_prepr_batches.ipynb",
      "version": "0.3.2",
      "provenance": [],
      "include_colab_link": true
    },
    "kernelspec": {
      "name": "python3",
      "display_name": "Python 3"
    }
  },
  "cells": [
    {
      "cell_type": "markdown",
      "metadata": {
        "id": "view-in-github",
        "colab_type": "text"
      },
      "source": [
        "<a href=\"https://colab.research.google.com/github/ShykerBogdan/Prozzoro_project/blob/master/Data_prepr_batches.ipynb\" target=\"_parent\"><img src=\"https://colab.research.google.com/assets/colab-badge.svg\" alt=\"Open In Colab\"/></a>"
      ]
    },
    {
      "metadata": {
        "id": "W5S7eeND767h",
        "colab_type": "code",
        "outputId": "49f69fa5-d990-46ae-ce1a-d2f2020218bf",
        "colab": {
          "base_uri": "https://localhost:8080/",
          "height": 122
        }
      },
      "cell_type": "code",
      "source": [
        "from google.colab import drive\n",
        "drive.mount('/content/gdrive')"
      ],
      "execution_count": 1,
      "outputs": [
        {
          "output_type": "stream",
          "text": [
            "Go to this URL in a browser: https://accounts.google.com/o/oauth2/auth?client_id=947318989803-6bn6qk8qdgf4n4g3pfee6491hc0brc4i.apps.googleusercontent.com&redirect_uri=urn%3Aietf%3Awg%3Aoauth%3A2.0%3Aoob&scope=email%20https%3A%2F%2Fwww.googleapis.com%2Fauth%2Fdocs.test%20https%3A%2F%2Fwww.googleapis.com%2Fauth%2Fdrive%20https%3A%2F%2Fwww.googleapis.com%2Fauth%2Fdrive.photos.readonly%20https%3A%2F%2Fwww.googleapis.com%2Fauth%2Fpeopleapi.readonly&response_type=code\n",
            "\n",
            "Enter your authorization code:\n",
            "··········\n",
            "Mounted at /content/gdrive\n"
          ],
          "name": "stdout"
        }
      ]
    },
    {
      "metadata": {
        "id": "m3ND2hmY8G2X",
        "colab_type": "code",
        "colab": {}
      },
      "cell_type": "code",
      "source": [
        "import pandas as pd\n",
        "import time\n",
        "from datetime import datetime\n",
        "import numpy as np"
      ],
      "execution_count": 0,
      "outputs": []
    },
    {
      "metadata": {
        "id": "OGtgX86K8G-O",
        "colab_type": "code",
        "outputId": "fe0e9f5f-44ba-40c0-8b92-58d4016e29a4",
        "colab": {
          "base_uri": "https://localhost:8080/",
          "height": 88
        }
      },
      "cell_type": "code",
      "source": [
        "filename='/content/gdrive/My Drive/ML_proz/data_source.csv'\n",
        "df=pd.read_csv(filename)\n",
        "df.shape"
      ],
      "execution_count": 4,
      "outputs": [
        {
          "output_type": "stream",
          "text": [
            "/usr/local/lib/python3.6/dist-packages/IPython/core/interactiveshell.py:2718: DtypeWarning: Columns (1,5,14,15,16,17,18,20,24,38,48,50,51,53) have mixed types. Specify dtype option on import or set low_memory=False.\n",
            "  interactivity=interactivity, compiler=compiler, result=result)\n"
          ],
          "name": "stderr"
        },
        {
          "output_type": "execute_result",
          "data": {
            "text/plain": [
              "(3507778, 56)"
            ]
          },
          "metadata": {
            "tags": []
          },
          "execution_count": 4
        }
      ]
    },
    {
      "metadata": {
        "id": "E4Sc-5n9Jk30",
        "colab_type": "code",
        "colab": {
          "base_uri": "https://localhost:8080/",
          "height": 163
        },
        "outputId": "cb6aecc9-8549-4d70-d142-2a8f97c3b143"
      },
      "cell_type": "code",
      "source": [
        "df['tenders.procuringEntity_address_postalCode'] = df['tenders.procuringEntity_address_postalCode'].astype(str).str[:2]"
      ],
      "execution_count": 1,
      "outputs": [
        {
          "output_type": "error",
          "ename": "NameError",
          "evalue": "ignored",
          "traceback": [
            "\u001b[0;31m---------------------------------------------------------------------------\u001b[0m",
            "\u001b[0;31mNameError\u001b[0m                                 Traceback (most recent call last)",
            "\u001b[0;32m<ipython-input-1-090e336e739a>\u001b[0m in \u001b[0;36m<module>\u001b[0;34m()\u001b[0m\n\u001b[0;32m----> 1\u001b[0;31m \u001b[0mdf\u001b[0m\u001b[0;34m[\u001b[0m\u001b[0;34m'tenders.procuringEntity_address_postalCode'\u001b[0m\u001b[0;34m]\u001b[0m \u001b[0;34m=\u001b[0m \u001b[0mdf\u001b[0m\u001b[0;34m[\u001b[0m\u001b[0;34m'tenders.procuringEntity_address_postalCode'\u001b[0m\u001b[0;34m]\u001b[0m\u001b[0;34m.\u001b[0m\u001b[0mastype\u001b[0m\u001b[0;34m(\u001b[0m\u001b[0mstr\u001b[0m\u001b[0;34m)\u001b[0m\u001b[0;34m.\u001b[0m\u001b[0mstr\u001b[0m\u001b[0;34m[\u001b[0m\u001b[0;34m:\u001b[0m\u001b[0;36m2\u001b[0m\u001b[0;34m]\u001b[0m\u001b[0;34m\u001b[0m\u001b[0;34m\u001b[0m\u001b[0m\n\u001b[0m",
            "\u001b[0;31mNameError\u001b[0m: name 'df' is not defined"
          ]
        }
      ]
    },
    {
      "metadata": {
        "id": "rV519cAq8HTM",
        "colab_type": "code",
        "colab": {}
      },
      "cell_type": "code",
      "source": [
        "class DataPreproccessing:\n",
        "    def __init__(self, data_source, churn_interval, start_period=None, end_period=None):\n",
        "        if start_period:\n",
        "          data_source=data_source[pd.to_datetime(data_source['date_from_id'])>start_period]\n",
        "        self.last_day = pd.to_datetime('2018-11-29')\n",
        "        # для статистики постачальника вибираємо проміжок [start_period,end_period]\n",
        "        self.divide_data = self.last_day - pd.DateOffset(days=churn_interval)\n",
        "        print(self.divide_data)\n",
        "        self.data_source = data_source[pd.to_datetime(data_source['date_from_id']) <= self.divide_data]\n",
        "        # для labeling вибираємо період [end_period, end_period+churn_interval]\n",
        "        self.label_data = data_source[pd.to_datetime(data_source['date_from_id']) > self.divide_data]\n",
        "        # вибираємо унікальних постачальників\n",
        "        self.unique_id = list(self.data_source['participants'].value_counts().index)\n",
        "        # створюємо dataframe з колонкою унікальних постачальників і туди будемо додавати features\n",
        "        self.feature_data = pd.DataFrame(self.unique_id, columns=['unique_id'])\n",
        "\n",
        "    def activity_date(self):\n",
        "        f = ['winner', 'tenders.auctionPeriod_startDate', 'contracts.dateSigned', 'date_from_id', 'awards.date']\n",
        "        self.data_source['new_date'] = self.data_source[f].apply(\n",
        "            lambda x: x[f[2]] if x[f[0] == 1] else (x[f[3]] if pd.isnull(x[f[1]]) else x[f[1]]), axis=1)\n",
        "        self.data_source['new_date'] = self.data_source[['new_date']].apply(lambda x: x['new_date'][:10], axis=1)\n",
        "        self.data_source['new_date'] = self.data_source[['new_date', 'date_from_id']].apply(\n",
        "            lambda x: x['date_from_id'] if x['new_date'] == '\\\\N' else x['new_date'], axis=1)\n",
        "\n",
        "    def cleaning(self):\n",
        "        self.data_source['winner'] = self.data_source[['contracts.value_amount', 'contracts.status', 'winner']].apply \\\n",
        "            (lambda x: 0 if x['contracts.value_amount'] == '\\\\N'\n",
        "                            or x['contracts.status'] == 'cancelled' else x['winner'], axis=1)\n",
        "        print('winner updated')\n",
        "        self.activity_date()\n",
        "        print('activity date')\n",
        "\n",
        "        def convert_to_float(raw):\n",
        "            try:\n",
        "                raw['lots.value_amount'] = float(raw['lots.value_amount'])\n",
        "            except:\n",
        "                raw['lots.value_amount'] = np.nan\n",
        "            return raw\n",
        "\n",
        "        self.data_source['lots.value_amount'] = self.data_source[['lots.value_amount']].apply(convert_to_float, axis=1)\n",
        "        print('convert lots')\n",
        "        self.data_source['tenders.procuringEntity_address_postalCode']=self.data_source['tenders.procuringEntity_address_postalCode'].astype(str).str[:2]\n",
        "        table_postal_code={'Київ':['01', '02', '03', '04', '05', '06'],\n",
        "                  'Київська область':['07', '08', '09'],\n",
        "                  'Житомирська область':['10', '11', '12', '13'],\n",
        "                  'Черніговська область':['14', '15', '16', '17'],\n",
        "                  'Черкаська область':['18', '19', '20'],\n",
        "                  'Вінницька область':['21', '22', '23', '24'],\n",
        "                  'Кіровоградська область':['25', '26', '27', '28'],\n",
        "                  'Хмельницька область':['29', '30', '31', '32'],\n",
        "                  'Рівненська область': ['33', '34', '35'],\n",
        "                  'Полтавська область':['36', '37', '38', '39'],\n",
        "                  'Сумська область':['40', '41', '42'],\n",
        "                  'Волинська область':['43', '44', '45'],\n",
        "                  'Тернопольська область':['46', '47', '48'],\n",
        "                  'Дніпропетровська область':['49', '50', '51', '52', '53'],\n",
        "                  'Миколаївська область':['54', '55', '56', '57'],\n",
        "                  'Чернівецька область':['58', '59', '60'],\n",
        "                  'Харьківська область':['61', '62', '63', '64'],\n",
        "                  'Одеська область':['65', '66', '67', '68'],\n",
        "                  'Запоріжська область':['69', '70', '71', '72'],\n",
        "                  'Херсонська область':['73', '74', '75'],\n",
        "                  'Івано-Франківська область':['76', '77', '78'],\n",
        "                  'Львівська область':['79', '80', '81', '82'],\n",
        "                  'Донецька область':['83', '84', '85', '86', '87'],\n",
        "                  'Закарпатська область':['88', '89', '90'],\n",
        "                  'Луганська область':['91', '92', '93', '94'],\n",
        "                  'Автономна республіка Крим':['95', '96', '97', '98'],\n",
        "                  'Севастопіль':['99']}\n",
        "        regions=dict()\n",
        "        for key,value in table_postal_code.items():\n",
        "            for item in value:\n",
        "              regions[item]=key\n",
        "        def get_region(raw,regions):\n",
        "            \n",
        "            try:\n",
        "              raw['region']=regions[raw['tenders.procuringEntity_address_postalCode']]\n",
        "            except:  \n",
        "              raw['region']=np.nan\n",
        "            return raw\n",
        "        self.data_source=self.data_source.apply(get_region,args=(regions,),axis=1)\n",
        "        print('regions updated')\n",
        "        \n",
        "    def split_into_batches(self, n=20000, filename=None):\n",
        "        \n",
        "        self.cleaning()\n",
        "        feature_batches = list()\n",
        "\n",
        "        n_iter = int(np.ceil(self.feature_data.shape[0] / n))\n",
        "        for i in range(n_iter):\n",
        "            start_time = time.time()\n",
        "            print('Batch {0}-{1}:'.format(i * n, (i + 1) * n))\n",
        "            unique_id = self.feature_data.iloc[i * n:(i + 1) * n]['unique_id'].values\n",
        "            feature_df = pd.DataFrame(unique_id, columns=['unique_id'])\n",
        "            feature_batches.append(feature_df)\n",
        "            # part of data_source\n",
        "            df_ = self.data_source.loc[self.data_source['participants'].isin(unique_id)]\n",
        "            print('Unique_supp:{0}-{1}'.format(len(unique_id), df_.shape[0]))\n",
        "            df_ = df_.sort_values(by='new_date')\n",
        "            self.divide_data = str(self.divide_data)[:10]\n",
        "\n",
        "            # features:\n",
        "            # 0. First activity\n",
        "            # 1. Last activity\n",
        "            def get_last_activity(raw, data):\n",
        "                date=data[data['participants'] == raw['unique_id']][['region','new_date']]\n",
        "                dates=date['new_date'].values\n",
        "                \n",
        "                raw['unique_regions']=len(set(date['region'].values))\n",
        "                raw['last_activity_date'] = dates[-1]\n",
        "                try:\n",
        "                    raw['first_activity_days'] = (\n",
        "                        pd.to_datetime(self.divide_data) - pd.to_datetime(dates[0])).days\n",
        "                    raw['last_activity_days'] = (\n",
        "                        pd.to_datetime(self.divide_data) - pd.to_datetime(raw['last_activity_date'])).days\n",
        "                    if len(dates)!=1:\n",
        "                      raw['average_activity']=(pd.to_datetime(dates[-1])-pd.to_datetime(dates[0])).days/(len(dates)-1)\n",
        "                    else:\n",
        "                      raw['average_activity']='?'\n",
        "                except:\n",
        "                    print('--------------')\n",
        "                    raw['last_activity_days'] = '?'\n",
        "                    raw['first_activity_days'] = '?'\n",
        "                    raw['average_activity'] = '?'\n",
        "                    \n",
        "                return raw\n",
        "\n",
        "            feature_batches[i] = feature_batches[i].apply(get_last_activity, args=(df_[['participants','new_date','region']],),\n",
        "                                                          axis=1)\n",
        "            feature_batches[i]['last_activity_days'] = feature_batches[i].apply(\n",
        "                lambda x: 0 if x['last_activity_days'] < 0 else x['last_activity_days'], axis=1)\n",
        "\n",
        "            # 2. Average activity\n",
        "#             def get_average_activity(raw, data):\n",
        "#                 dates_ = list(data[data['participants'] == raw['unique_id']]['new_date'].values)\n",
        "#                 try:\n",
        "#                     raw['average_activity'] = (pd.to_datetime(dates_[-1]) - pd.to_datetime(dates_[0])).days / len(dates_)\n",
        "#                 except:\n",
        "#                     raw['average_activity'] = np.nan\n",
        "#                 return raw\n",
        "\n",
        "#             feature_batches[i] = feature_batches[i].apply(get_average_activity, args=(df_[['participants','new_date']],),\n",
        "#                                                           axis=1)\n",
        "\n",
        "            # 3. Count lots\n",
        "            freq = df_['participants'].value_counts()\n",
        "\n",
        "            def count_lots(raw, frequency):\n",
        "                raw['count_lots'] = frequency[raw['unique_id']]\n",
        "                return raw\n",
        "\n",
        "            feature_batches[i] = feature_batches[i].apply(count_lots, args=(freq,), axis=1)\n",
        "\n",
        "            # 4. Win, lose\n",
        "            frequency = df_[df_['winner'] == 1]['participants'].value_counts()\n",
        "\n",
        "            def win_lose(raw, frequency):\n",
        "                # use try bsc if index not in frequency 'win'=0\n",
        "                try:\n",
        "                    raw['win'] = frequency[raw['unique_id']]\n",
        "                except:\n",
        "                    raw['win'] = 0\n",
        "                return raw\n",
        "\n",
        "            feature_batches[i] = feature_batches[i].apply(win_lose, args=(\n",
        "                frequency,), axis=1)\n",
        "            feature_batches[i]['lose'] = feature_batches[i]['count_lots'] - feature_batches[i]['win']\n",
        "#             5. Count win open\n",
        "\n",
        "            frequency = df_.loc[(df_['winner'] == 1) & (df_['tenders.procurementMethod'] == 'open')][\n",
        "                'participants'].value_counts()\n",
        "\n",
        "            def count_win_open(raw, frequency):\n",
        "                try:\n",
        "                    raw['win_open'] = frequency[raw['unique_id']]\n",
        "                except:\n",
        "                    raw['win_open'] = 0\n",
        "                return raw\n",
        "\n",
        "            feature_batches[i] = feature_batches[i].apply(count_win_open, args=(\n",
        "                frequency,), axis=1)\n",
        "            feature_batches[i]['win_not_open'] = feature_batches[i]['win'] - feature_batches[i]['win_open']\n",
        "#             6. Count lose open\n",
        "            frequency = df_.loc[(df_['winner'] == 0) & (df_['tenders.procurementMethod'] == 'open')][\n",
        "                'participants'].value_counts()\n",
        "\n",
        "            def count_lose_open(raw, frequency):\n",
        "                try:\n",
        "                    raw['lose_open'] = frequency[raw['unique_id']]\n",
        "                except:\n",
        "                    raw['lose_open'] = 0\n",
        "                return raw\n",
        "\n",
        "            feature_batches[i] = feature_batches[i].apply(count_lose_open, args=(\n",
        "                frequency,), axis=1)\n",
        "#             feature_batches[i]['lose_not_open'] = feature_batches[i]['lose'] - feature_batches[i]['lose_open']\n",
        "            # 7. Average economy\n",
        "            data = df_[df_['winner'] == 1][\n",
        "                ['participants', 'awards.value_amount', 'lots.value_amount']]\n",
        "            data['economy_value'] = data['lots.value_amount'] - data['awards.value_amount']\n",
        "            data['economy_percent'] = data['awards.value_amount'] / data['lots.value_amount']\n",
        "\n",
        "            def get_economy(raw, data):\n",
        "                d = data[data['participants'] == raw['unique_id']]\n",
        "                raw['economy_value'] = np.nanmean(d['economy_value'])\n",
        "                raw['average_winner_price']=np.nansum(d['awards.value_amount'])/d.shape[0]\n",
        "                raw['economy_percent'] = np.nanmean(d['economy_percent'])\n",
        "                return raw\n",
        "\n",
        "            feature_batches[i] = feature_batches[i].apply(get_economy, args=(data,), axis=1)\n",
        "#             8. Get label\n",
        "            participants = list(self.label_data['participants'].value_counts().index)\n",
        "\n",
        "            def get_y(raw, participants):\n",
        "              if raw['unique_id'] in participants:\n",
        "                  raw['y'] = 1\n",
        "              else:\n",
        "                  raw['y'] = 0\n",
        "              return raw\n",
        "#             9. Get favourite hosts\n",
        "            feature_batches[i] = feature_batches[i].apply(get_y, args=(participants,), axis=1)\n",
        "            def favourite_percent(raw, data, eps = 0.7):\n",
        "                d = data[data['participants']==raw['unique_id']].drop_duplicates('tenders.id')\n",
        "                try:\n",
        "                  if d['tenders.procuringEntity_identifier_id'].value_counts().iloc[0]/d.shape[0] >=eps:\n",
        "                    raw['favourite_host']=1\n",
        "                  else:\n",
        "                    raw['favourite_host']=0\n",
        "                    raw['count_unique_hosts']=d['tenders.procuringEntity_identifier_id'].value_counts().shape[0]\n",
        "                except:\n",
        "                  raw['favourite_host']=np.nan\n",
        "                  raw['count_unique_hosts']=np.nan\n",
        "                del d\n",
        "                return raw\n",
        "            feature_batches[i] = feature_batches[i].apply(favourite_percent, args=(df_[['participants', 'tenders.id', 'tenders.procuringEntity_identifier_id']],0.75,), axis=1)\n",
        "            # 10. Get unique region\n",
        "            print(\" Batch %s seconds ---\" % (time.time() - start_time))\n",
        "        if filename:\n",
        "            print(f'write to csv')\n",
        "            feature_batches[i].to_csv(filename + '{0}'.format(i) + '.csv', index=False)\n",
        "\n",
        "        \n",
        "        # concat dataframes into one\n",
        "        print('Concat')\n",
        "        all_batches_df = pd.concat(feature_batches)\n",
        "        self.feature_data = all_batches_df.copy()\n",
        "        if filename:\n",
        "            print('write to csv_all')\n",
        "            all_batches_df.to_csv(filename + '_all.csv', index=False)\n",
        "\n",
        "    def get_label(self):\n",
        "        participants = list(self.label_data['participants'].value_counts().index)\n",
        "\n",
        "        def get_y(raw, participants):\n",
        "            if raw['unique_id'] in participants:\n",
        "                raw['y'] = 1\n",
        "            else:\n",
        "                raw['y'] = 0\n",
        "            return raw\n",
        "\n",
        "        self.feature_data = self.feature_data.apply(get_y, args=(participants,), axis=1)\n"
      ],
      "execution_count": 0,
      "outputs": []
    },
    {
      "metadata": {
        "id": "y1ABSfek9iKl",
        "colab_type": "code",
        "colab": {}
      },
      "cell_type": "code",
      "source": [
        "col=['winner','tenders.auctionPeriod_startDate','contracts.dateSigned',\n",
        "     'awards.date','participants','date_from_id','contracts.value_amount','tenders.procurementMethod','contracts.status','awards.value_amount','tenders.id','tenders.procuringEntity_identifier_id','tenders.procuringEntity_address_postalCode','lots.value_amount']"
      ],
      "execution_count": 0,
      "outputs": []
    },
    {
      "metadata": {
        "id": "oTuLbGYs9iJc",
        "colab_type": "code",
        "outputId": "da262422-1220-4130-a8a3-2463f13088af",
        "colab": {
          "base_uri": "https://localhost:8080/",
          "height": 3240
        }
      },
      "cell_type": "code",
      "source": [
        "\n",
        "df1=df[col]\n",
        "prepr = DataPreproccessing(df1.iloc[:100000],108)\n",
        "prepr.split_into_batches(n=10000)\n",
        "print(\"--- %s seconds ---\" % (time.time() - start_time))\n",
        "print(prepr.feature_data.head())"
      ],
      "execution_count": 56,
      "outputs": [
        {
          "output_type": "stream",
          "text": [
            "2018-08-13 00:00:00\n",
            "winner updated\n",
            "activity date\n",
            "convert lots\n",
            "regions updated\n",
            "Batch 0-10000:\n",
            "Unique_supp:10000-56385\n"
          ],
          "name": "stdout"
        },
        {
          "output_type": "stream",
          "text": [
            "/usr/local/lib/python3.6/dist-packages/ipykernel_launcher.py:204: RuntimeWarning: Mean of empty slice\n",
            "/usr/local/lib/python3.6/dist-packages/ipykernel_launcher.py:205: RuntimeWarning: invalid value encountered in double_scalars\n",
            "/usr/local/lib/python3.6/dist-packages/ipykernel_launcher.py:206: RuntimeWarning: Mean of empty slice\n"
          ],
          "name": "stderr"
        },
        {
          "output_type": "stream",
          "text": [
            " Batch 407.0572888851166 seconds ---\n",
            "Batch 10000-20000:\n",
            "Unique_supp:10000-13504\n"
          ],
          "name": "stdout"
        },
        {
          "output_type": "error",
          "ename": "KeyboardInterrupt",
          "evalue": "ignored",
          "traceback": [
            "\u001b[0;31m---------------------------------------------------------------------------\u001b[0m",
            "\u001b[0;31mKeyError\u001b[0m                                  Traceback (most recent call last)",
            "\u001b[0;32m/usr/local/lib/python3.6/dist-packages/pandas/core/series.py\u001b[0m in \u001b[0;36m_set_with_engine\u001b[0;34m(self, key, value)\u001b[0m\n\u001b[1;32m    799\u001b[0m         \u001b[0;32mtry\u001b[0m\u001b[0;34m:\u001b[0m\u001b[0;34m\u001b[0m\u001b[0;34m\u001b[0m\u001b[0m\n\u001b[0;32m--> 800\u001b[0;31m             \u001b[0mself\u001b[0m\u001b[0;34m.\u001b[0m\u001b[0mindex\u001b[0m\u001b[0;34m.\u001b[0m\u001b[0m_engine\u001b[0m\u001b[0;34m.\u001b[0m\u001b[0mset_value\u001b[0m\u001b[0;34m(\u001b[0m\u001b[0mvalues\u001b[0m\u001b[0;34m,\u001b[0m \u001b[0mkey\u001b[0m\u001b[0;34m,\u001b[0m \u001b[0mvalue\u001b[0m\u001b[0;34m)\u001b[0m\u001b[0;34m\u001b[0m\u001b[0;34m\u001b[0m\u001b[0m\n\u001b[0m\u001b[1;32m    801\u001b[0m             \u001b[0;32mreturn\u001b[0m\u001b[0;34m\u001b[0m\u001b[0;34m\u001b[0m\u001b[0m\n",
            "\u001b[0;32mpandas/_libs/index.pyx\u001b[0m in \u001b[0;36mpandas._libs.index.IndexEngine.set_value\u001b[0;34m()\u001b[0m\n",
            "\u001b[0;32mpandas/_libs/index.pyx\u001b[0m in \u001b[0;36mpandas._libs.index.IndexEngine.set_value\u001b[0;34m()\u001b[0m\n",
            "\u001b[0;32mpandas/_libs/index.pyx\u001b[0m in \u001b[0;36mpandas._libs.index.IndexEngine.get_loc\u001b[0;34m()\u001b[0m\n",
            "\u001b[0;32mpandas/_libs/hashtable_class_helper.pxi\u001b[0m in \u001b[0;36mpandas._libs.hashtable.PyObjectHashTable.get_item\u001b[0;34m()\u001b[0m\n",
            "\u001b[0;32mpandas/_libs/hashtable_class_helper.pxi\u001b[0m in \u001b[0;36mpandas._libs.hashtable.PyObjectHashTable.get_item\u001b[0;34m()\u001b[0m\n",
            "\u001b[0;31mKeyError\u001b[0m: 'economy_value'",
            "\nDuring handling of the above exception, another exception occurred:\n",
            "\u001b[0;31mKeyError\u001b[0m                                  Traceback (most recent call last)",
            "\u001b[0;32m/usr/local/lib/python3.6/dist-packages/pandas/core/indexes/base.py\u001b[0m in \u001b[0;36mget_loc\u001b[0;34m(self, key, method, tolerance)\u001b[0m\n\u001b[1;32m   2524\u001b[0m             \u001b[0;32mtry\u001b[0m\u001b[0;34m:\u001b[0m\u001b[0;34m\u001b[0m\u001b[0;34m\u001b[0m\u001b[0m\n\u001b[0;32m-> 2525\u001b[0;31m                 \u001b[0;32mreturn\u001b[0m \u001b[0mself\u001b[0m\u001b[0;34m.\u001b[0m\u001b[0m_engine\u001b[0m\u001b[0;34m.\u001b[0m\u001b[0mget_loc\u001b[0m\u001b[0;34m(\u001b[0m\u001b[0mkey\u001b[0m\u001b[0;34m)\u001b[0m\u001b[0;34m\u001b[0m\u001b[0;34m\u001b[0m\u001b[0m\n\u001b[0m\u001b[1;32m   2526\u001b[0m             \u001b[0;32mexcept\u001b[0m \u001b[0mKeyError\u001b[0m\u001b[0;34m:\u001b[0m\u001b[0;34m\u001b[0m\u001b[0;34m\u001b[0m\u001b[0m\n",
            "\u001b[0;32mpandas/_libs/index.pyx\u001b[0m in \u001b[0;36mpandas._libs.index.IndexEngine.get_loc\u001b[0;34m()\u001b[0m\n",
            "\u001b[0;32mpandas/_libs/index.pyx\u001b[0m in \u001b[0;36mpandas._libs.index.IndexEngine.get_loc\u001b[0;34m()\u001b[0m\n",
            "\u001b[0;32mpandas/_libs/hashtable_class_helper.pxi\u001b[0m in \u001b[0;36mpandas._libs.hashtable.PyObjectHashTable.get_item\u001b[0;34m()\u001b[0m\n",
            "\u001b[0;32mpandas/_libs/hashtable_class_helper.pxi\u001b[0m in \u001b[0;36mpandas._libs.hashtable.PyObjectHashTable.get_item\u001b[0;34m()\u001b[0m\n",
            "\u001b[0;31mKeyError\u001b[0m: 'economy_value'",
            "\nDuring handling of the above exception, another exception occurred:\n",
            "\u001b[0;31mKeyError\u001b[0m                                  Traceback (most recent call last)",
            "\u001b[0;32m/usr/local/lib/python3.6/dist-packages/pandas/core/series.py\u001b[0m in \u001b[0;36msetitem\u001b[0;34m(key, value)\u001b[0m\n\u001b[1;32m    740\u001b[0m             \u001b[0;32mtry\u001b[0m\u001b[0;34m:\u001b[0m\u001b[0;34m\u001b[0m\u001b[0;34m\u001b[0m\u001b[0m\n\u001b[0;32m--> 741\u001b[0;31m                 \u001b[0mself\u001b[0m\u001b[0;34m.\u001b[0m\u001b[0m_set_with_engine\u001b[0m\u001b[0;34m(\u001b[0m\u001b[0mkey\u001b[0m\u001b[0;34m,\u001b[0m \u001b[0mvalue\u001b[0m\u001b[0;34m)\u001b[0m\u001b[0;34m\u001b[0m\u001b[0;34m\u001b[0m\u001b[0m\n\u001b[0m\u001b[1;32m    742\u001b[0m                 \u001b[0;32mreturn\u001b[0m\u001b[0;34m\u001b[0m\u001b[0;34m\u001b[0m\u001b[0m\n",
            "\u001b[0;32m/usr/local/lib/python3.6/dist-packages/pandas/core/series.py\u001b[0m in \u001b[0;36m_set_with_engine\u001b[0;34m(self, key, value)\u001b[0m\n\u001b[1;32m    802\u001b[0m         \u001b[0;32mexcept\u001b[0m \u001b[0mKeyError\u001b[0m\u001b[0;34m:\u001b[0m\u001b[0;34m\u001b[0m\u001b[0;34m\u001b[0m\u001b[0m\n\u001b[0;32m--> 803\u001b[0;31m             \u001b[0mvalues\u001b[0m\u001b[0;34m[\u001b[0m\u001b[0mself\u001b[0m\u001b[0;34m.\u001b[0m\u001b[0mindex\u001b[0m\u001b[0;34m.\u001b[0m\u001b[0mget_loc\u001b[0m\u001b[0;34m(\u001b[0m\u001b[0mkey\u001b[0m\u001b[0;34m)\u001b[0m\u001b[0;34m]\u001b[0m \u001b[0;34m=\u001b[0m \u001b[0mvalue\u001b[0m\u001b[0;34m\u001b[0m\u001b[0;34m\u001b[0m\u001b[0m\n\u001b[0m\u001b[1;32m    804\u001b[0m             \u001b[0;32mreturn\u001b[0m\u001b[0;34m\u001b[0m\u001b[0;34m\u001b[0m\u001b[0m\n",
            "\u001b[0;32m/usr/local/lib/python3.6/dist-packages/pandas/core/indexes/base.py\u001b[0m in \u001b[0;36mget_loc\u001b[0;34m(self, key, method, tolerance)\u001b[0m\n\u001b[1;32m   2526\u001b[0m             \u001b[0;32mexcept\u001b[0m \u001b[0mKeyError\u001b[0m\u001b[0;34m:\u001b[0m\u001b[0;34m\u001b[0m\u001b[0;34m\u001b[0m\u001b[0m\n\u001b[0;32m-> 2527\u001b[0;31m                 \u001b[0;32mreturn\u001b[0m \u001b[0mself\u001b[0m\u001b[0;34m.\u001b[0m\u001b[0m_engine\u001b[0m\u001b[0;34m.\u001b[0m\u001b[0mget_loc\u001b[0m\u001b[0;34m(\u001b[0m\u001b[0mself\u001b[0m\u001b[0;34m.\u001b[0m\u001b[0m_maybe_cast_indexer\u001b[0m\u001b[0;34m(\u001b[0m\u001b[0mkey\u001b[0m\u001b[0;34m)\u001b[0m\u001b[0;34m)\u001b[0m\u001b[0;34m\u001b[0m\u001b[0;34m\u001b[0m\u001b[0m\n\u001b[0m\u001b[1;32m   2528\u001b[0m \u001b[0;34m\u001b[0m\u001b[0m\n",
            "\u001b[0;32mpandas/_libs/index.pyx\u001b[0m in \u001b[0;36mpandas._libs.index.IndexEngine.get_loc\u001b[0;34m()\u001b[0m\n",
            "\u001b[0;32mpandas/_libs/index.pyx\u001b[0m in \u001b[0;36mpandas._libs.index.IndexEngine.get_loc\u001b[0;34m()\u001b[0m\n",
            "\u001b[0;32mpandas/_libs/hashtable_class_helper.pxi\u001b[0m in \u001b[0;36mpandas._libs.hashtable.PyObjectHashTable.get_item\u001b[0;34m()\u001b[0m\n",
            "\u001b[0;32mpandas/_libs/hashtable_class_helper.pxi\u001b[0m in \u001b[0;36mpandas._libs.hashtable.PyObjectHashTable.get_item\u001b[0;34m()\u001b[0m\n",
            "\u001b[0;31mKeyError\u001b[0m: 'economy_value'",
            "\nDuring handling of the above exception, another exception occurred:\n",
            "\u001b[0;31mKeyboardInterrupt\u001b[0m                         Traceback (most recent call last)",
            "\u001b[0;32m<ipython-input-56-ecc8b80b492a>\u001b[0m in \u001b[0;36m<module>\u001b[0;34m()\u001b[0m\n\u001b[1;32m      2\u001b[0m \u001b[0mdf1\u001b[0m\u001b[0;34m=\u001b[0m\u001b[0mdf\u001b[0m\u001b[0;34m[\u001b[0m\u001b[0mcol\u001b[0m\u001b[0;34m]\u001b[0m\u001b[0;34m\u001b[0m\u001b[0;34m\u001b[0m\u001b[0m\n\u001b[1;32m      3\u001b[0m \u001b[0mprepr\u001b[0m \u001b[0;34m=\u001b[0m \u001b[0mDataPreproccessing\u001b[0m\u001b[0;34m(\u001b[0m\u001b[0mdf1\u001b[0m\u001b[0;34m.\u001b[0m\u001b[0miloc\u001b[0m\u001b[0;34m[\u001b[0m\u001b[0;34m:\u001b[0m\u001b[0;36m100000\u001b[0m\u001b[0;34m]\u001b[0m\u001b[0;34m,\u001b[0m\u001b[0;36m108\u001b[0m\u001b[0;34m)\u001b[0m\u001b[0;34m\u001b[0m\u001b[0;34m\u001b[0m\u001b[0m\n\u001b[0;32m----> 4\u001b[0;31m \u001b[0mprepr\u001b[0m\u001b[0;34m.\u001b[0m\u001b[0msplit_into_batches\u001b[0m\u001b[0;34m(\u001b[0m\u001b[0mn\u001b[0m\u001b[0;34m=\u001b[0m\u001b[0;36m10000\u001b[0m\u001b[0;34m)\u001b[0m\u001b[0;34m\u001b[0m\u001b[0;34m\u001b[0m\u001b[0m\n\u001b[0m\u001b[1;32m      5\u001b[0m \u001b[0mprint\u001b[0m\u001b[0;34m(\u001b[0m\u001b[0;34m\"--- %s seconds ---\"\u001b[0m \u001b[0;34m%\u001b[0m \u001b[0;34m(\u001b[0m\u001b[0mtime\u001b[0m\u001b[0;34m.\u001b[0m\u001b[0mtime\u001b[0m\u001b[0;34m(\u001b[0m\u001b[0;34m)\u001b[0m \u001b[0;34m-\u001b[0m \u001b[0mstart_time\u001b[0m\u001b[0;34m)\u001b[0m\u001b[0;34m)\u001b[0m\u001b[0;34m\u001b[0m\u001b[0;34m\u001b[0m\u001b[0m\n\u001b[1;32m      6\u001b[0m \u001b[0mprint\u001b[0m\u001b[0;34m(\u001b[0m\u001b[0mprepr\u001b[0m\u001b[0;34m.\u001b[0m\u001b[0mfeature_data\u001b[0m\u001b[0;34m.\u001b[0m\u001b[0mhead\u001b[0m\u001b[0;34m(\u001b[0m\u001b[0;34m)\u001b[0m\u001b[0;34m)\u001b[0m\u001b[0;34m\u001b[0m\u001b[0;34m\u001b[0m\u001b[0m\n",
            "\u001b[0;32m<ipython-input-52-de04282d9a8a>\u001b[0m in \u001b[0;36msplit_into_batches\u001b[0;34m(self, n, filename)\u001b[0m\n\u001b[1;32m    207\u001b[0m                 \u001b[0;32mreturn\u001b[0m \u001b[0mraw\u001b[0m\u001b[0;34m\u001b[0m\u001b[0;34m\u001b[0m\u001b[0m\n\u001b[1;32m    208\u001b[0m \u001b[0;34m\u001b[0m\u001b[0m\n\u001b[0;32m--> 209\u001b[0;31m             \u001b[0mfeature_batches\u001b[0m\u001b[0;34m[\u001b[0m\u001b[0mi\u001b[0m\u001b[0;34m]\u001b[0m \u001b[0;34m=\u001b[0m \u001b[0mfeature_batches\u001b[0m\u001b[0;34m[\u001b[0m\u001b[0mi\u001b[0m\u001b[0;34m]\u001b[0m\u001b[0;34m.\u001b[0m\u001b[0mapply\u001b[0m\u001b[0;34m(\u001b[0m\u001b[0mget_economy\u001b[0m\u001b[0;34m,\u001b[0m \u001b[0margs\u001b[0m\u001b[0;34m=\u001b[0m\u001b[0;34m(\u001b[0m\u001b[0mdata\u001b[0m\u001b[0;34m,\u001b[0m\u001b[0;34m)\u001b[0m\u001b[0;34m,\u001b[0m \u001b[0maxis\u001b[0m\u001b[0;34m=\u001b[0m\u001b[0;36m1\u001b[0m\u001b[0;34m)\u001b[0m\u001b[0;34m\u001b[0m\u001b[0;34m\u001b[0m\u001b[0m\n\u001b[0m\u001b[1;32m    210\u001b[0m \u001b[0;31m#             8. Get label\u001b[0m\u001b[0;34m\u001b[0m\u001b[0;34m\u001b[0m\u001b[0;34m\u001b[0m\u001b[0m\n\u001b[1;32m    211\u001b[0m             \u001b[0mparticipants\u001b[0m \u001b[0;34m=\u001b[0m \u001b[0mlist\u001b[0m\u001b[0;34m(\u001b[0m\u001b[0mself\u001b[0m\u001b[0;34m.\u001b[0m\u001b[0mlabel_data\u001b[0m\u001b[0;34m[\u001b[0m\u001b[0;34m'participants'\u001b[0m\u001b[0;34m]\u001b[0m\u001b[0;34m.\u001b[0m\u001b[0mvalue_counts\u001b[0m\u001b[0;34m(\u001b[0m\u001b[0;34m)\u001b[0m\u001b[0;34m.\u001b[0m\u001b[0mindex\u001b[0m\u001b[0;34m)\u001b[0m\u001b[0;34m\u001b[0m\u001b[0;34m\u001b[0m\u001b[0m\n",
            "\u001b[0;32m/usr/local/lib/python3.6/dist-packages/pandas/core/frame.py\u001b[0m in \u001b[0;36mapply\u001b[0;34m(self, func, axis, broadcast, raw, reduce, args, **kwds)\u001b[0m\n\u001b[1;32m   4875\u001b[0m                         \u001b[0mf\u001b[0m\u001b[0;34m,\u001b[0m \u001b[0maxis\u001b[0m\u001b[0;34m,\u001b[0m\u001b[0;34m\u001b[0m\u001b[0;34m\u001b[0m\u001b[0m\n\u001b[1;32m   4876\u001b[0m                         \u001b[0mreduce\u001b[0m\u001b[0;34m=\u001b[0m\u001b[0mreduce\u001b[0m\u001b[0;34m,\u001b[0m\u001b[0;34m\u001b[0m\u001b[0;34m\u001b[0m\u001b[0m\n\u001b[0;32m-> 4877\u001b[0;31m                         ignore_failures=ignore_failures)\n\u001b[0m\u001b[1;32m   4878\u001b[0m             \u001b[0;32melse\u001b[0m\u001b[0;34m:\u001b[0m\u001b[0;34m\u001b[0m\u001b[0;34m\u001b[0m\u001b[0m\n\u001b[1;32m   4879\u001b[0m                 \u001b[0;32mreturn\u001b[0m \u001b[0mself\u001b[0m\u001b[0;34m.\u001b[0m\u001b[0m_apply_broadcast\u001b[0m\u001b[0;34m(\u001b[0m\u001b[0mf\u001b[0m\u001b[0;34m,\u001b[0m \u001b[0maxis\u001b[0m\u001b[0;34m)\u001b[0m\u001b[0;34m\u001b[0m\u001b[0;34m\u001b[0m\u001b[0m\n",
            "\u001b[0;32m/usr/local/lib/python3.6/dist-packages/pandas/core/frame.py\u001b[0m in \u001b[0;36m_apply_standard\u001b[0;34m(self, func, axis, ignore_failures, reduce)\u001b[0m\n\u001b[1;32m   4971\u001b[0m             \u001b[0;32mtry\u001b[0m\u001b[0;34m:\u001b[0m\u001b[0;34m\u001b[0m\u001b[0;34m\u001b[0m\u001b[0m\n\u001b[1;32m   4972\u001b[0m                 \u001b[0;32mfor\u001b[0m \u001b[0mi\u001b[0m\u001b[0;34m,\u001b[0m \u001b[0mv\u001b[0m \u001b[0;32min\u001b[0m \u001b[0menumerate\u001b[0m\u001b[0;34m(\u001b[0m\u001b[0mseries_gen\u001b[0m\u001b[0;34m)\u001b[0m\u001b[0;34m:\u001b[0m\u001b[0;34m\u001b[0m\u001b[0;34m\u001b[0m\u001b[0m\n\u001b[0;32m-> 4973\u001b[0;31m                     \u001b[0mresults\u001b[0m\u001b[0;34m[\u001b[0m\u001b[0mi\u001b[0m\u001b[0;34m]\u001b[0m \u001b[0;34m=\u001b[0m \u001b[0mfunc\u001b[0m\u001b[0;34m(\u001b[0m\u001b[0mv\u001b[0m\u001b[0;34m)\u001b[0m\u001b[0;34m\u001b[0m\u001b[0;34m\u001b[0m\u001b[0m\n\u001b[0m\u001b[1;32m   4974\u001b[0m                     \u001b[0mkeys\u001b[0m\u001b[0;34m.\u001b[0m\u001b[0mappend\u001b[0m\u001b[0;34m(\u001b[0m\u001b[0mv\u001b[0m\u001b[0;34m.\u001b[0m\u001b[0mname\u001b[0m\u001b[0;34m)\u001b[0m\u001b[0;34m\u001b[0m\u001b[0;34m\u001b[0m\u001b[0m\n\u001b[1;32m   4975\u001b[0m             \u001b[0;32mexcept\u001b[0m \u001b[0mException\u001b[0m \u001b[0;32mas\u001b[0m \u001b[0me\u001b[0m\u001b[0;34m:\u001b[0m\u001b[0;34m\u001b[0m\u001b[0;34m\u001b[0m\u001b[0m\n",
            "\u001b[0;32m/usr/local/lib/python3.6/dist-packages/pandas/core/frame.py\u001b[0m in \u001b[0;36mf\u001b[0;34m(x)\u001b[0m\n\u001b[1;32m   4852\u001b[0m         \u001b[0;32mif\u001b[0m \u001b[0mkwds\u001b[0m \u001b[0;32mor\u001b[0m \u001b[0margs\u001b[0m \u001b[0;32mand\u001b[0m \u001b[0;32mnot\u001b[0m \u001b[0misinstance\u001b[0m\u001b[0;34m(\u001b[0m\u001b[0mfunc\u001b[0m\u001b[0;34m,\u001b[0m \u001b[0mnp\u001b[0m\u001b[0;34m.\u001b[0m\u001b[0mufunc\u001b[0m\u001b[0;34m)\u001b[0m\u001b[0;34m:\u001b[0m\u001b[0;34m\u001b[0m\u001b[0;34m\u001b[0m\u001b[0m\n\u001b[1;32m   4853\u001b[0m             \u001b[0;32mdef\u001b[0m \u001b[0mf\u001b[0m\u001b[0;34m(\u001b[0m\u001b[0mx\u001b[0m\u001b[0;34m)\u001b[0m\u001b[0;34m:\u001b[0m\u001b[0;34m\u001b[0m\u001b[0;34m\u001b[0m\u001b[0m\n\u001b[0;32m-> 4854\u001b[0;31m                 \u001b[0;32mreturn\u001b[0m \u001b[0mfunc\u001b[0m\u001b[0;34m(\u001b[0m\u001b[0mx\u001b[0m\u001b[0;34m,\u001b[0m \u001b[0;34m*\u001b[0m\u001b[0margs\u001b[0m\u001b[0;34m,\u001b[0m \u001b[0;34m**\u001b[0m\u001b[0mkwds\u001b[0m\u001b[0;34m)\u001b[0m\u001b[0;34m\u001b[0m\u001b[0;34m\u001b[0m\u001b[0m\n\u001b[0m\u001b[1;32m   4855\u001b[0m         \u001b[0;32melse\u001b[0m\u001b[0;34m:\u001b[0m\u001b[0;34m\u001b[0m\u001b[0;34m\u001b[0m\u001b[0m\n\u001b[1;32m   4856\u001b[0m             \u001b[0mf\u001b[0m \u001b[0;34m=\u001b[0m \u001b[0mfunc\u001b[0m\u001b[0;34m\u001b[0m\u001b[0;34m\u001b[0m\u001b[0m\n",
            "\u001b[0;32m<ipython-input-52-de04282d9a8a>\u001b[0m in \u001b[0;36mget_economy\u001b[0;34m(raw, data)\u001b[0m\n\u001b[1;32m    202\u001b[0m             \u001b[0;32mdef\u001b[0m \u001b[0mget_economy\u001b[0m\u001b[0;34m(\u001b[0m\u001b[0mraw\u001b[0m\u001b[0;34m,\u001b[0m \u001b[0mdata\u001b[0m\u001b[0;34m)\u001b[0m\u001b[0;34m:\u001b[0m\u001b[0;34m\u001b[0m\u001b[0;34m\u001b[0m\u001b[0m\n\u001b[1;32m    203\u001b[0m                 \u001b[0md\u001b[0m \u001b[0;34m=\u001b[0m \u001b[0mdata\u001b[0m\u001b[0;34m[\u001b[0m\u001b[0mdata\u001b[0m\u001b[0;34m[\u001b[0m\u001b[0;34m'participants'\u001b[0m\u001b[0;34m]\u001b[0m \u001b[0;34m==\u001b[0m \u001b[0mraw\u001b[0m\u001b[0;34m[\u001b[0m\u001b[0;34m'unique_id'\u001b[0m\u001b[0;34m]\u001b[0m\u001b[0;34m]\u001b[0m\u001b[0;34m\u001b[0m\u001b[0;34m\u001b[0m\u001b[0m\n\u001b[0;32m--> 204\u001b[0;31m                 \u001b[0mraw\u001b[0m\u001b[0;34m[\u001b[0m\u001b[0;34m'economy_value'\u001b[0m\u001b[0;34m]\u001b[0m \u001b[0;34m=\u001b[0m \u001b[0mnp\u001b[0m\u001b[0;34m.\u001b[0m\u001b[0mnanmean\u001b[0m\u001b[0;34m(\u001b[0m\u001b[0md\u001b[0m\u001b[0;34m[\u001b[0m\u001b[0;34m'economy_value'\u001b[0m\u001b[0;34m]\u001b[0m\u001b[0;34m)\u001b[0m\u001b[0;34m\u001b[0m\u001b[0;34m\u001b[0m\u001b[0m\n\u001b[0m\u001b[1;32m    205\u001b[0m                 \u001b[0mraw\u001b[0m\u001b[0;34m[\u001b[0m\u001b[0;34m'average_winner_price'\u001b[0m\u001b[0;34m]\u001b[0m\u001b[0;34m=\u001b[0m\u001b[0mnp\u001b[0m\u001b[0;34m.\u001b[0m\u001b[0mnansum\u001b[0m\u001b[0;34m(\u001b[0m\u001b[0md\u001b[0m\u001b[0;34m[\u001b[0m\u001b[0;34m'awards.value_amount'\u001b[0m\u001b[0;34m]\u001b[0m\u001b[0;34m)\u001b[0m\u001b[0;34m/\u001b[0m\u001b[0md\u001b[0m\u001b[0;34m.\u001b[0m\u001b[0mshape\u001b[0m\u001b[0;34m[\u001b[0m\u001b[0;36m0\u001b[0m\u001b[0;34m]\u001b[0m\u001b[0;34m\u001b[0m\u001b[0;34m\u001b[0m\u001b[0m\n\u001b[1;32m    206\u001b[0m                 \u001b[0mraw\u001b[0m\u001b[0;34m[\u001b[0m\u001b[0;34m'economy_percent'\u001b[0m\u001b[0;34m]\u001b[0m \u001b[0;34m=\u001b[0m \u001b[0mnp\u001b[0m\u001b[0;34m.\u001b[0m\u001b[0mnanmean\u001b[0m\u001b[0;34m(\u001b[0m\u001b[0md\u001b[0m\u001b[0;34m[\u001b[0m\u001b[0;34m'economy_percent'\u001b[0m\u001b[0;34m]\u001b[0m\u001b[0;34m)\u001b[0m\u001b[0;34m\u001b[0m\u001b[0;34m\u001b[0m\u001b[0m\n",
            "\u001b[0;32m/usr/local/lib/python3.6/dist-packages/pandas/core/series.py\u001b[0m in \u001b[0;36m__setitem__\u001b[0;34m(self, key, value)\u001b[0m\n\u001b[1;32m    791\u001b[0m         \u001b[0;31m# do the setitem\u001b[0m\u001b[0;34m\u001b[0m\u001b[0;34m\u001b[0m\u001b[0;34m\u001b[0m\u001b[0m\n\u001b[1;32m    792\u001b[0m         \u001b[0mcacher_needs_updating\u001b[0m \u001b[0;34m=\u001b[0m \u001b[0mself\u001b[0m\u001b[0;34m.\u001b[0m\u001b[0m_check_is_chained_assignment_possible\u001b[0m\u001b[0;34m(\u001b[0m\u001b[0;34m)\u001b[0m\u001b[0;34m\u001b[0m\u001b[0;34m\u001b[0m\u001b[0m\n\u001b[0;32m--> 793\u001b[0;31m         \u001b[0msetitem\u001b[0m\u001b[0;34m(\u001b[0m\u001b[0mkey\u001b[0m\u001b[0;34m,\u001b[0m \u001b[0mvalue\u001b[0m\u001b[0;34m)\u001b[0m\u001b[0;34m\u001b[0m\u001b[0;34m\u001b[0m\u001b[0m\n\u001b[0m\u001b[1;32m    794\u001b[0m         \u001b[0;32mif\u001b[0m \u001b[0mcacher_needs_updating\u001b[0m\u001b[0;34m:\u001b[0m\u001b[0;34m\u001b[0m\u001b[0;34m\u001b[0m\u001b[0m\n\u001b[1;32m    795\u001b[0m             \u001b[0mself\u001b[0m\u001b[0;34m.\u001b[0m\u001b[0m_maybe_update_cacher\u001b[0m\u001b[0;34m(\u001b[0m\u001b[0;34m)\u001b[0m\u001b[0;34m\u001b[0m\u001b[0;34m\u001b[0m\u001b[0m\n",
            "\u001b[0;32m/usr/local/lib/python3.6/dist-packages/pandas/core/series.py\u001b[0m in \u001b[0;36msetitem\u001b[0;34m(key, value)\u001b[0m\n\u001b[1;32m    767\u001b[0m                             \u001b[0;32mpass\u001b[0m\u001b[0;34m\u001b[0m\u001b[0;34m\u001b[0m\u001b[0m\n\u001b[1;32m    768\u001b[0m \u001b[0;34m\u001b[0m\u001b[0m\n\u001b[0;32m--> 769\u001b[0;31m                 \u001b[0mself\u001b[0m\u001b[0;34m.\u001b[0m\u001b[0mloc\u001b[0m\u001b[0;34m[\u001b[0m\u001b[0mkey\u001b[0m\u001b[0;34m]\u001b[0m \u001b[0;34m=\u001b[0m \u001b[0mvalue\u001b[0m\u001b[0;34m\u001b[0m\u001b[0;34m\u001b[0m\u001b[0m\n\u001b[0m\u001b[1;32m    770\u001b[0m                 \u001b[0;32mreturn\u001b[0m\u001b[0;34m\u001b[0m\u001b[0;34m\u001b[0m\u001b[0m\n\u001b[1;32m    771\u001b[0m \u001b[0;34m\u001b[0m\u001b[0m\n",
            "\u001b[0;32m/usr/local/lib/python3.6/dist-packages/pandas/core/indexing.py\u001b[0m in \u001b[0;36m__setitem__\u001b[0;34m(self, key, value)\u001b[0m\n\u001b[1;32m    192\u001b[0m             \u001b[0mkey\u001b[0m \u001b[0;34m=\u001b[0m \u001b[0mcom\u001b[0m\u001b[0;34m.\u001b[0m\u001b[0m_apply_if_callable\u001b[0m\u001b[0;34m(\u001b[0m\u001b[0mkey\u001b[0m\u001b[0;34m,\u001b[0m \u001b[0mself\u001b[0m\u001b[0;34m.\u001b[0m\u001b[0mobj\u001b[0m\u001b[0;34m)\u001b[0m\u001b[0;34m\u001b[0m\u001b[0;34m\u001b[0m\u001b[0m\n\u001b[1;32m    193\u001b[0m         \u001b[0mindexer\u001b[0m \u001b[0;34m=\u001b[0m \u001b[0mself\u001b[0m\u001b[0;34m.\u001b[0m\u001b[0m_get_setitem_indexer\u001b[0m\u001b[0;34m(\u001b[0m\u001b[0mkey\u001b[0m\u001b[0;34m)\u001b[0m\u001b[0;34m\u001b[0m\u001b[0;34m\u001b[0m\u001b[0m\n\u001b[0;32m--> 194\u001b[0;31m         \u001b[0mself\u001b[0m\u001b[0;34m.\u001b[0m\u001b[0m_setitem_with_indexer\u001b[0m\u001b[0;34m(\u001b[0m\u001b[0mindexer\u001b[0m\u001b[0;34m,\u001b[0m \u001b[0mvalue\u001b[0m\u001b[0;34m)\u001b[0m\u001b[0;34m\u001b[0m\u001b[0;34m\u001b[0m\u001b[0m\n\u001b[0m\u001b[1;32m    195\u001b[0m \u001b[0;34m\u001b[0m\u001b[0m\n\u001b[1;32m    196\u001b[0m     \u001b[0;32mdef\u001b[0m \u001b[0m_has_valid_type\u001b[0m\u001b[0;34m(\u001b[0m\u001b[0mself\u001b[0m\u001b[0;34m,\u001b[0m \u001b[0mk\u001b[0m\u001b[0;34m,\u001b[0m \u001b[0maxis\u001b[0m\u001b[0;34m)\u001b[0m\u001b[0;34m:\u001b[0m\u001b[0;34m\u001b[0m\u001b[0;34m\u001b[0m\u001b[0m\n",
            "\u001b[0;32m/usr/local/lib/python3.6/dist-packages/pandas/core/indexing.py\u001b[0m in \u001b[0;36m_setitem_with_indexer\u001b[0;34m(self, indexer, value)\u001b[0m\n\u001b[1;32m    389\u001b[0m                 \u001b[0;32mif\u001b[0m \u001b[0mself\u001b[0m\u001b[0;34m.\u001b[0m\u001b[0mndim\u001b[0m \u001b[0;34m==\u001b[0m \u001b[0;36m1\u001b[0m\u001b[0;34m:\u001b[0m\u001b[0;34m\u001b[0m\u001b[0;34m\u001b[0m\u001b[0m\n\u001b[1;32m    390\u001b[0m                     \u001b[0mindex\u001b[0m \u001b[0;34m=\u001b[0m \u001b[0mself\u001b[0m\u001b[0;34m.\u001b[0m\u001b[0mobj\u001b[0m\u001b[0;34m.\u001b[0m\u001b[0mindex\u001b[0m\u001b[0;34m\u001b[0m\u001b[0;34m\u001b[0m\u001b[0m\n\u001b[0;32m--> 391\u001b[0;31m                     \u001b[0mnew_index\u001b[0m \u001b[0;34m=\u001b[0m \u001b[0mindex\u001b[0m\u001b[0;34m.\u001b[0m\u001b[0minsert\u001b[0m\u001b[0;34m(\u001b[0m\u001b[0mlen\u001b[0m\u001b[0;34m(\u001b[0m\u001b[0mindex\u001b[0m\u001b[0;34m)\u001b[0m\u001b[0;34m,\u001b[0m \u001b[0mindexer\u001b[0m\u001b[0;34m)\u001b[0m\u001b[0;34m\u001b[0m\u001b[0;34m\u001b[0m\u001b[0m\n\u001b[0m\u001b[1;32m    392\u001b[0m \u001b[0;34m\u001b[0m\u001b[0m\n\u001b[1;32m    393\u001b[0m                     \u001b[0;31m# we have a coerced indexer, e.g. a float\u001b[0m\u001b[0;34m\u001b[0m\u001b[0;34m\u001b[0m\u001b[0;34m\u001b[0m\u001b[0m\n",
            "\u001b[0;32m/usr/local/lib/python3.6/dist-packages/pandas/core/indexes/base.py\u001b[0m in \u001b[0;36minsert\u001b[0;34m(self, loc, item)\u001b[0m\n\u001b[1;32m   3718\u001b[0m         \"\"\"\n\u001b[1;32m   3719\u001b[0m         \u001b[0m_self\u001b[0m \u001b[0;34m=\u001b[0m \u001b[0mnp\u001b[0m\u001b[0;34m.\u001b[0m\u001b[0masarray\u001b[0m\u001b[0;34m(\u001b[0m\u001b[0mself\u001b[0m\u001b[0;34m)\u001b[0m\u001b[0;34m\u001b[0m\u001b[0;34m\u001b[0m\u001b[0m\n\u001b[0;32m-> 3720\u001b[0;31m         \u001b[0mitem\u001b[0m \u001b[0;34m=\u001b[0m \u001b[0mself\u001b[0m\u001b[0;34m.\u001b[0m\u001b[0m_coerce_scalar_to_index\u001b[0m\u001b[0;34m(\u001b[0m\u001b[0mitem\u001b[0m\u001b[0;34m)\u001b[0m\u001b[0;34m.\u001b[0m\u001b[0m_values\u001b[0m\u001b[0;34m\u001b[0m\u001b[0;34m\u001b[0m\u001b[0m\n\u001b[0m\u001b[1;32m   3721\u001b[0m         \u001b[0midx\u001b[0m \u001b[0;34m=\u001b[0m \u001b[0mnp\u001b[0m\u001b[0;34m.\u001b[0m\u001b[0mconcatenate\u001b[0m\u001b[0;34m(\u001b[0m\u001b[0;34m(\u001b[0m\u001b[0m_self\u001b[0m\u001b[0;34m[\u001b[0m\u001b[0;34m:\u001b[0m\u001b[0mloc\u001b[0m\u001b[0;34m]\u001b[0m\u001b[0;34m,\u001b[0m \u001b[0mitem\u001b[0m\u001b[0;34m,\u001b[0m \u001b[0m_self\u001b[0m\u001b[0;34m[\u001b[0m\u001b[0mloc\u001b[0m\u001b[0;34m:\u001b[0m\u001b[0;34m]\u001b[0m\u001b[0;34m)\u001b[0m\u001b[0;34m)\u001b[0m\u001b[0;34m\u001b[0m\u001b[0;34m\u001b[0m\u001b[0m\n\u001b[1;32m   3722\u001b[0m         \u001b[0;32mreturn\u001b[0m \u001b[0mself\u001b[0m\u001b[0;34m.\u001b[0m\u001b[0m_shallow_copy_with_infer\u001b[0m\u001b[0;34m(\u001b[0m\u001b[0midx\u001b[0m\u001b[0;34m)\u001b[0m\u001b[0;34m\u001b[0m\u001b[0;34m\u001b[0m\u001b[0m\n",
            "\u001b[0;32m/usr/local/lib/python3.6/dist-packages/pandas/core/indexes/base.py\u001b[0m in \u001b[0;36m_coerce_scalar_to_index\u001b[0;34m(self, item)\u001b[0m\n\u001b[1;32m    762\u001b[0m             \u001b[0mdtype\u001b[0m \u001b[0;34m=\u001b[0m \u001b[0;32mNone\u001b[0m\u001b[0;34m\u001b[0m\u001b[0;34m\u001b[0m\u001b[0m\n\u001b[1;32m    763\u001b[0m \u001b[0;34m\u001b[0m\u001b[0m\n\u001b[0;32m--> 764\u001b[0;31m         \u001b[0;32mreturn\u001b[0m \u001b[0mIndex\u001b[0m\u001b[0;34m(\u001b[0m\u001b[0;34m[\u001b[0m\u001b[0mitem\u001b[0m\u001b[0;34m]\u001b[0m\u001b[0;34m,\u001b[0m \u001b[0mdtype\u001b[0m\u001b[0;34m=\u001b[0m\u001b[0mdtype\u001b[0m\u001b[0;34m,\u001b[0m \u001b[0;34m**\u001b[0m\u001b[0mself\u001b[0m\u001b[0;34m.\u001b[0m\u001b[0m_get_attributes_dict\u001b[0m\u001b[0;34m(\u001b[0m\u001b[0;34m)\u001b[0m\u001b[0;34m)\u001b[0m\u001b[0;34m\u001b[0m\u001b[0;34m\u001b[0m\u001b[0m\n\u001b[0m\u001b[1;32m    765\u001b[0m \u001b[0;34m\u001b[0m\u001b[0m\n\u001b[1;32m    766\u001b[0m     _index_shared_docs['copy'] = \"\"\"\n",
            "\u001b[0;32m/usr/local/lib/python3.6/dist-packages/pandas/core/indexes/base.py\u001b[0m in \u001b[0;36m__new__\u001b[0;34m(cls, data, dtype, copy, name, fastpath, tupleize_cols, **kwargs)\u001b[0m\n\u001b[1;32m    373\u001b[0m             \u001b[0;31m# other iterable of some kind\u001b[0m\u001b[0;34m\u001b[0m\u001b[0;34m\u001b[0m\u001b[0;34m\u001b[0m\u001b[0m\n\u001b[1;32m    374\u001b[0m             \u001b[0msubarr\u001b[0m \u001b[0;34m=\u001b[0m \u001b[0m_asarray_tuplesafe\u001b[0m\u001b[0;34m(\u001b[0m\u001b[0mdata\u001b[0m\u001b[0;34m,\u001b[0m \u001b[0mdtype\u001b[0m\u001b[0;34m=\u001b[0m\u001b[0mobject\u001b[0m\u001b[0;34m)\u001b[0m\u001b[0;34m\u001b[0m\u001b[0;34m\u001b[0m\u001b[0m\n\u001b[0;32m--> 375\u001b[0;31m             \u001b[0;32mreturn\u001b[0m \u001b[0mIndex\u001b[0m\u001b[0;34m(\u001b[0m\u001b[0msubarr\u001b[0m\u001b[0;34m,\u001b[0m \u001b[0mdtype\u001b[0m\u001b[0;34m=\u001b[0m\u001b[0mdtype\u001b[0m\u001b[0;34m,\u001b[0m \u001b[0mcopy\u001b[0m\u001b[0;34m=\u001b[0m\u001b[0mcopy\u001b[0m\u001b[0;34m,\u001b[0m \u001b[0mname\u001b[0m\u001b[0;34m=\u001b[0m\u001b[0mname\u001b[0m\u001b[0;34m,\u001b[0m \u001b[0;34m**\u001b[0m\u001b[0mkwargs\u001b[0m\u001b[0;34m)\u001b[0m\u001b[0;34m\u001b[0m\u001b[0;34m\u001b[0m\u001b[0m\n\u001b[0m\u001b[1;32m    376\u001b[0m \u001b[0;34m\u001b[0m\u001b[0m\n\u001b[1;32m    377\u001b[0m     \"\"\"\n",
            "\u001b[0;32m/usr/local/lib/python3.6/dist-packages/pandas/core/indexes/base.py\u001b[0m in \u001b[0;36m__new__\u001b[0;34m(cls, data, dtype, copy, name, fastpath, tupleize_cols, **kwargs)\u001b[0m\n\u001b[1;32m    347\u001b[0m                         \u001b[0;32mexcept\u001b[0m \u001b[0mIncompatibleFrequency\u001b[0m\u001b[0;34m:\u001b[0m\u001b[0;34m\u001b[0m\u001b[0;34m\u001b[0m\u001b[0m\n\u001b[1;32m    348\u001b[0m                             \u001b[0;32mpass\u001b[0m\u001b[0;34m\u001b[0m\u001b[0;34m\u001b[0m\u001b[0m\n\u001b[0;32m--> 349\u001b[0;31m             \u001b[0;32mreturn\u001b[0m \u001b[0mcls\u001b[0m\u001b[0;34m.\u001b[0m\u001b[0m_simple_new\u001b[0m\u001b[0;34m(\u001b[0m\u001b[0msubarr\u001b[0m\u001b[0;34m,\u001b[0m \u001b[0mname\u001b[0m\u001b[0;34m)\u001b[0m\u001b[0;34m\u001b[0m\u001b[0;34m\u001b[0m\u001b[0m\n\u001b[0m\u001b[1;32m    350\u001b[0m \u001b[0;34m\u001b[0m\u001b[0m\n\u001b[1;32m    351\u001b[0m         \u001b[0;32melif\u001b[0m \u001b[0mhasattr\u001b[0m\u001b[0;34m(\u001b[0m\u001b[0mdata\u001b[0m\u001b[0;34m,\u001b[0m \u001b[0;34m'__array__'\u001b[0m\u001b[0;34m)\u001b[0m\u001b[0;34m:\u001b[0m\u001b[0;34m\u001b[0m\u001b[0;34m\u001b[0m\u001b[0m\n",
            "\u001b[0;32m/usr/local/lib/python3.6/dist-packages/pandas/core/indexes/base.py\u001b[0m in \u001b[0;36m_simple_new\u001b[0;34m(cls, values, name, dtype, **kwargs)\u001b[0m\n\u001b[1;32m    412\u001b[0m \u001b[0;34m\u001b[0m\u001b[0m\n\u001b[1;32m    413\u001b[0m         \u001b[0mresult\u001b[0m \u001b[0;34m=\u001b[0m \u001b[0mobject\u001b[0m\u001b[0;34m.\u001b[0m\u001b[0m__new__\u001b[0m\u001b[0;34m(\u001b[0m\u001b[0mcls\u001b[0m\u001b[0;34m)\u001b[0m\u001b[0;34m\u001b[0m\u001b[0;34m\u001b[0m\u001b[0m\n\u001b[0;32m--> 414\u001b[0;31m         \u001b[0mresult\u001b[0m\u001b[0;34m.\u001b[0m\u001b[0m_data\u001b[0m \u001b[0;34m=\u001b[0m \u001b[0mvalues\u001b[0m\u001b[0;34m\u001b[0m\u001b[0;34m\u001b[0m\u001b[0m\n\u001b[0m\u001b[1;32m    415\u001b[0m         \u001b[0mresult\u001b[0m\u001b[0;34m.\u001b[0m\u001b[0mname\u001b[0m \u001b[0;34m=\u001b[0m \u001b[0mname\u001b[0m\u001b[0;34m\u001b[0m\u001b[0;34m\u001b[0m\u001b[0m\n\u001b[1;32m    416\u001b[0m         \u001b[0;32mfor\u001b[0m \u001b[0mk\u001b[0m\u001b[0;34m,\u001b[0m \u001b[0mv\u001b[0m \u001b[0;32min\u001b[0m \u001b[0mcompat\u001b[0m\u001b[0;34m.\u001b[0m\u001b[0miteritems\u001b[0m\u001b[0;34m(\u001b[0m\u001b[0mkwargs\u001b[0m\u001b[0;34m)\u001b[0m\u001b[0;34m:\u001b[0m\u001b[0;34m\u001b[0m\u001b[0;34m\u001b[0m\u001b[0m\n",
            "\u001b[0;31mKeyboardInterrupt\u001b[0m: "
          ]
        }
      ]
    },
    {
      "metadata": {
        "id": "419zWuciN6aW",
        "colab_type": "code",
        "colab": {}
      },
      "cell_type": "code",
      "source": [
        "table_postal_code={'Київ':['01', '02', '03', '04', '05', '06'],\n",
        "                  'Київська область':['07', '08', '09'],\n",
        "                  'Житомирська область':['10', '11', '12', '13'],\n",
        "                  'Черніговська область':['14', '15', '16', '17'],\n",
        "                  'Черкаська область':['18', '19', '20'],\n",
        "                  'Вінницька область':['21', '22', '23', '24'],\n",
        "                  'Кіровоградська область':['25', '26', '27', '28'],\n",
        "                  'Хмельницька область':['29', '30', '31', '32'],\n",
        "                  'Рівненська область': ['33', '34', '35'],\n",
        "                  'Полтавська область':['36', '37', '38', '39'],\n",
        "                  'Сумська область':['40', '41', '42'],\n",
        "                  'Волинська область':['43', '44', '45'],\n",
        "                  'Тернопольська область':['46', '47', '48'],\n",
        "                  'Дніпропетровська область':['49', '50', '51', '52', '53'],\n",
        "                  'Миколаївська область':['54', '55', '56', '57'],\n",
        "                  'Чернівецька область':['58', '59', '60'],\n",
        "                  'Харьківська область':['61', '62', '63', '64'],\n",
        "                  'Одеська область':['65', '66', '67', '68'],\n",
        "                  'Запоріжська область':['69', '70', '71', '72'],\n",
        "                  'Херсонська область':['73', '74', '75'],\n",
        "                  'Івано-Франківська область':['76', '77', '78'],\n",
        "                  'Львівська область':['79', '80', '81', '82'],\n",
        "                  'Донецька область':['83', '84', '85', '86', '87'],\n",
        "                  'Закарпатська область':['88', '89', '90'],\n",
        "                  'Луганська область':['91', '92', '93', '94'],\n",
        "                  'Автономна республіка Крим':['95', '96', '97', '98'],\n",
        "                  'Севастопіль':['99']}"
      ],
      "execution_count": 0,
      "outputs": []
    },
    {
      "metadata": {
        "id": "U1dE2ZU9N7as",
        "colab_type": "code",
        "colab": {
          "base_uri": "https://localhost:8080/",
          "height": 54
        },
        "outputId": "8fefc0ed-f1f6-4db1-fc26-62e1943681e1"
      },
      "cell_type": "code",
      "source": [
        "regions=dict()\n",
        "for key,value in table_postal_code.items():\n",
        "  for item in value:\n",
        "    regions[item]=key\n",
        "print(regions)"
      ],
      "execution_count": 7,
      "outputs": [
        {
          "output_type": "stream",
          "text": [
            "{'01': 'Київ', '02': 'Київ', '03': 'Київ', '04': 'Київ', '05': 'Київ', '06': 'Київ', '07': 'Київська область', '08': 'Київська область', '09': 'Київська область', '10': 'Житомирська область', '11': 'Житомирська область', '12': 'Житомирська область', '13': 'Житомирська область', '14': 'Черніговська область', '15': 'Черніговська область', '16': 'Черніговська область', '17': 'Черніговська область', '18': 'Черкаська область', '19': 'Черкаська область', '20': 'Черкаська область', '21': 'Вінницька область', '22': 'Вінницька область', '23': 'Вінницька область', '24': 'Вінницька область', '25': 'Кіровоградська область', '26': 'Кіровоградська область', '27': 'Кіровоградська область', '28': 'Кіровоградська область', '29': 'Хмельницька область', '30': 'Хмельницька область', '31': 'Хмельницька область', '32': 'Хмельницька область', '33': 'Рівненська область', '34': 'Рівненська область', '35': 'Рівненська область', '36': 'Полтавська область', '37': 'Полтавська область', '38': 'Полтавська область', '39': 'Полтавська область', '40': 'Сумська область', '41': 'Сумська область', '42': 'Сумська область', '43': 'Волинська область', '44': 'Волинська область', '45': 'Волинська область', '46': 'Тернопольська область', '47': 'Тернопольська область', '48': 'Тернопольська область', '49': 'Дніпропетровська область', '50': 'Дніпропетровська область', '51': 'Дніпропетровська область', '52': 'Дніпропетровська область', '53': 'Дніпропетровська область', '54': 'Миколаївська область', '55': 'Миколаївська область', '56': 'Миколаївська область', '57': 'Миколаївська область', '58': 'Чернівецька область', '59': 'Чернівецька область', '60': 'Чернівецька область', '61': 'Харьківська область', '62': 'Харьківська область', '63': 'Харьківська область', '64': 'Харьківська область', '65': 'Одеська область', '66': 'Одеська область', '67': 'Одеська область', '68': 'Одеська область', '69': 'Запоріжська область', '70': 'Запоріжська область', '71': 'Запоріжська область', '72': 'Запоріжська область', '73': 'Херсонська область', '74': 'Херсонська область', '75': 'Херсонська область', '76': 'Івано-Франківська область', '77': 'Івано-Франківська область', '78': 'Івано-Франківська область', '79': 'Львівська область', '80': 'Львівська область', '81': 'Львівська область', '82': 'Львівська область', '83': 'Донецька область', '84': 'Донецька область', '85': 'Донецька область', '86': 'Донецька область', '87': 'Донецька область', '88': 'Закарпатська область', '89': 'Закарпатська область', '90': 'Закарпатська область', '91': 'Луганська область', '92': 'Луганська область', '93': 'Луганська область', '94': 'Луганська область', '95': 'Автономна республіка Крим', '96': 'Автономна республіка Крим', '97': 'Автономна республіка Крим', '98': 'Автономна республіка Крим', '99': 'Севастопіль'}\n"
          ],
          "name": "stdout"
        }
      ]
    }
  ]
}