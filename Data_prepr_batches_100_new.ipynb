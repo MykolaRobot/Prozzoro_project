{
  "nbformat": 4,
  "nbformat_minor": 0,
  "metadata": {
    "colab": {
      "name": "Data_prepr_batches_100_new.ipynb",
      "version": "0.3.2",
      "provenance": [],
      "collapsed_sections": [],
      "include_colab_link": true
    },
    "kernelspec": {
      "name": "python3",
      "display_name": "Python 3"
    }
  },
  "cells": [
    {
      "cell_type": "markdown",
      "metadata": {
        "id": "view-in-github",
        "colab_type": "text"
      },
      "source": [
        "<a href=\"https://colab.research.google.com/github/ShykerBogdan/Prozzoro_project/blob/master/Data_prepr_batches_100_new.ipynb\" target=\"_parent\"><img src=\"https://colab.research.google.com/assets/colab-badge.svg\" alt=\"Open In Colab\"/></a>"
      ]
    },
    {
      "metadata": {
        "id": "W5S7eeND767h",
        "colab_type": "code",
        "outputId": "306899dd-6445-4258-8c4e-134bac5430e8",
        "colab": {
          "base_uri": "https://localhost:8080/",
          "height": 122
        }
      },
      "cell_type": "code",
      "source": [
        "from google.colab import drive\n",
        "drive.mount('/content/gdrive')"
      ],
      "execution_count": 4,
      "outputs": [
        {
          "output_type": "stream",
          "text": [
            "Go to this URL in a browser: https://accounts.google.com/o/oauth2/auth?client_id=947318989803-6bn6qk8qdgf4n4g3pfee6491hc0brc4i.apps.googleusercontent.com&redirect_uri=urn%3Aietf%3Awg%3Aoauth%3A2.0%3Aoob&scope=email%20https%3A%2F%2Fwww.googleapis.com%2Fauth%2Fdocs.test%20https%3A%2F%2Fwww.googleapis.com%2Fauth%2Fdrive%20https%3A%2F%2Fwww.googleapis.com%2Fauth%2Fdrive.photos.readonly%20https%3A%2F%2Fwww.googleapis.com%2Fauth%2Fpeopleapi.readonly&response_type=code\n",
            "\n",
            "Enter your authorization code:\n",
            "··········\n",
            "Mounted at /content/gdrive\n"
          ],
          "name": "stdout"
        }
      ]
    },
    {
      "metadata": {
        "id": "m3ND2hmY8G2X",
        "colab_type": "code",
        "colab": {}
      },
      "cell_type": "code",
      "source": [
        "import pandas as pd\n",
        "import time\n",
        "from datetime import datetime\n",
        "import numpy as np"
      ],
      "execution_count": 0,
      "outputs": []
    },
    {
      "metadata": {
        "id": "OGtgX86K8G-O",
        "colab_type": "code",
        "outputId": "52577eec-801b-4876-a0f5-b67f90e632be",
        "colab": {
          "base_uri": "https://localhost:8080/",
          "height": 88
        }
      },
      "cell_type": "code",
      "source": [
        "filename='/content/gdrive/My Drive/ML_proz/data_source_cleaned.csv'\n",
        "df=pd.read_csv(filename)\n",
        "df.shape"
      ],
      "execution_count": 6,
      "outputs": [
        {
          "output_type": "stream",
          "text": [
            "/usr/local/lib/python3.6/dist-packages/IPython/core/interactiveshell.py:2718: DtypeWarning: Columns (1,5,14,15,16,17,18,24,38,48,50,51,53) have mixed types. Specify dtype option on import or set low_memory=False.\n",
            "  interactivity=interactivity, compiler=compiler, result=result)\n"
          ],
          "name": "stderr"
        },
        {
          "output_type": "execute_result",
          "data": {
            "text/plain": [
              "(3507778, 57)"
            ]
          },
          "metadata": {
            "tags": []
          },
          "execution_count": 6
        }
      ]
    },
    {
      "metadata": {
        "id": "GePWuRHMs9tv",
        "colab_type": "code",
        "colab": {}
      },
      "cell_type": "code",
      "source": [
        "df['lots.guarantee_amount']=df[['lots.guarantee_amount','tenders.guarantee_amount']].apply(lambda raw:raw['tenders.guarantee_amount'] if\n",
        "                                                                                          pd.isnull(raw['lots.guarantee_amount']) else raw['lots.guarantee_amount'],axis=1)"
      ],
      "execution_count": 0,
      "outputs": []
    },
    {
      "metadata": {
        "id": "gfnQuGbquGgg",
        "colab_type": "code",
        "colab": {}
      },
      "cell_type": "code",
      "source": [
        "df['lots.guarantee_amount']=df[['lots.guarantee_amount']].apply(lambda raw: 0 if raw['lots.guarantee_amount']=='\\\\N' \n",
        "                                                               or str(raw['lots.guarantee_amount'])=='0.00' else raw['lots.guarantee_amount'],axis=1 )"
      ],
      "execution_count": 0,
      "outputs": []
    },
    {
      "metadata": {
        "id": "yO3VzGOFveKf",
        "colab_type": "code",
        "colab": {
          "base_uri": "https://localhost:8080/",
          "height": 34
        },
        "outputId": "e03715ab-294d-4dc4-8a9d-7257a09f12c3"
      },
      "cell_type": "code",
      "source": [
        "cpv=pd.read_csv('/content/gdrive/My Drive/ML_proz/cpv (2).csv')\n",
        "cpv.shape"
      ],
      "execution_count": 9,
      "outputs": [
        {
          "output_type": "execute_result",
          "data": {
            "text/plain": [
              "(2687175, 3)"
            ]
          },
          "metadata": {
            "tags": []
          },
          "execution_count": 9
        }
      ]
    },
    {
      "metadata": {
        "id": "ndwikCJ_t-PV",
        "colab_type": "code",
        "colab": {}
      },
      "cell_type": "code",
      "source": [
        "df=pd.merge(df,cpv,left_on='tenders.id',right_on='tender_id',how='left')"
      ],
      "execution_count": 0,
      "outputs": []
    },
    {
      "metadata": {
        "id": "dwZ4sgQBUFmI",
        "colab_type": "code",
        "colab": {}
      },
      "cell_type": "code",
      "source": [
        "df['common_name']=df.apply(lambda raw: raw['tenderers_name'] if pd.notnull(raw['tenderers_name']) else (raw['awards.suppliers_identifier_legalName'] if raw['awards.suppliers_identifier_legalName']!='\\\\N' else raw['awards.suppliers_name']),axis=1)"
      ],
      "execution_count": 0,
      "outputs": []
    },
    {
      "metadata": {
        "id": "3lWmHS-2hnLi",
        "colab_type": "code",
        "colab": {
          "base_uri": "https://localhost:8080/",
          "height": 34
        },
        "outputId": "49b5578e-7b63-45dc-f691-8a9f3e6a5c54"
      },
      "cell_type": "code",
      "source": [
        "items=pd.read_csv('/content/gdrive/My Drive/ML_proz/tender_delivery.csv')\n",
        "items.shape"
      ],
      "execution_count": 12,
      "outputs": [
        {
          "output_type": "execute_result",
          "data": {
            "text/plain": [
              "(2687175, 2)"
            ]
          },
          "metadata": {
            "tags": []
          },
          "execution_count": 12
        }
      ]
    },
    {
      "metadata": {
        "id": "46vZQyUZlT9Z",
        "colab_type": "code",
        "colab": {
          "base_uri": "https://localhost:8080/",
          "height": 34
        },
        "outputId": "ef8b76da-3776-4634-d3c4-44e597a35751"
      },
      "cell_type": "code",
      "source": [
        "items=items.drop_duplicates(subset='tender_id')\n",
        "df=pd.merge(df,items,left_on='tenders.id',right_on='tender_id',how='left')\n",
        "df.shape"
      ],
      "execution_count": 13,
      "outputs": [
        {
          "output_type": "execute_result",
          "data": {
            "text/plain": [
              "(3507778, 63)"
            ]
          },
          "metadata": {
            "tags": []
          },
          "execution_count": 13
        }
      ]
    },
    {
      "metadata": {
        "id": "taBtY8yPNuAh",
        "colab_type": "code",
        "colab": {}
      },
      "cell_type": "code",
      "source": [
        "df.drop([154938,224282,240276,2340160,2529480],inplace=True)"
      ],
      "execution_count": 0,
      "outputs": []
    },
    {
      "metadata": {
        "id": "rV519cAq8HTM",
        "colab_type": "code",
        "colab": {}
      },
      "cell_type": "code",
      "source": [
        "class DataPreproccessing:\n",
        "    def __init__(self, data_source, churn_interval=90, start_period=None, end_period=None,start_data_unique=None):\n",
        "       \n",
        "        data_source=data_source[pd.to_datetime(data_source['new_date'])>=start_period]\n",
        "        data_source=data_source[pd.to_datetime(data_source['new_date'])<end_period]\n",
        "        self.start_period=start_period\n",
        "        self.end_period=end_period\n",
        "        self.start_data_unique=start_data_unique\n",
        "        self.last_day = pd.to_datetime('2018-11-29')\n",
        "        self.divide_data = pd.to_datetime(self.end_period) - pd.DateOffset(days=churn_interval)\n",
        "        print(self.divide_data)\n",
        "        self.data_source = data_source[pd.to_datetime(data_source['new_date']) < self.divide_data]\n",
        "        \n",
        "        self.label_data = data_source[pd.to_datetime(data_source['new_date']) >= self.divide_data]\n",
        "        # вибираємо унікальних постачальників\n",
        "#         self.unique_id_data=self.data_source[(pd.to_datetime(self.data_source['new_date'])>=self.start_data_unique) & (pd.to_datetime(self.data_source['new_date'])<=self.divide_data)]\n",
        "        self.unique_data=self.data_source[pd.to_datetime(self.data_source['new_date'])>=self.start_data_unique]\n",
        "        self.unique_data=self.unique_data[pd.to_datetime(self.unique_data['new_date'])<self.divide_data]\n",
        "        self.unique_id = list(self.unique_data['participants'].value_counts().index)\n",
        "        # створюємо dataframe з колонкою унікальних постачальників і туди будемо додавати features\n",
        "        self.feature_data = pd.DataFrame(self.unique_id, columns=['unique_id'])\n",
        "        \n",
        "    def print_dates(self):\n",
        "        print('{0}:'.format((pd.to_datetime(self.divide_data)-pd.to_datetime(self.start_data_unique)).days))\n",
        "        print('{0}:'.format((pd.to_datetime(self.end_period)-pd.to_datetime(self.start_data_unique)).days))\n",
        "        print('Features: [{0}/{1})'.format(self.start_period,self.divide_data))\n",
        "        print('Unique_id: [{0}/{1})'.format(self.start_data_unique,self.divide_data))\n",
        "        print('Labeling: [{0}/{1}]'.format(self.divide_data,self.end_period))\n",
        "    \n",
        "    \n",
        "    \n",
        "    def cleaning(self):\n",
        "        \n",
        "        self.data_source['tenders.procuringEntity_address_postalCode']=self.data_source['tenders.procuringEntity_address_postalCode'].astype(str).str[:2]\n",
        "        self.data_source['tenderers_address_postalCode']=self.data_source['tenderers_address_postalCode'].astype(str).str[:2]\n",
        "        table_postal_code={'Київ':['01', '02', '03', '04', '05', '06'],\n",
        "                  'Київська область':['07', '08', '09'],\n",
        "                  'Житомирська область':['10', '11', '12', '13'],\n",
        "                  'Черніговська область':['14', '15', '16', '17'],\n",
        "                  'Черкаська область':['18', '19', '20'],\n",
        "                  'Вінницька область':['21', '22', '23', '24'],\n",
        "                  'Кіровоградська область':['25', '26', '27', '28'],\n",
        "                  'Хмельницька область':['29', '30', '31', '32'],\n",
        "                  'Рівненська область': ['33', '34', '35'],\n",
        "                  'Полтавська область':['36', '37', '38', '39'],\n",
        "                  'Сумська область':['40', '41', '42'],\n",
        "                  'Волинська область':['43', '44', '45'],\n",
        "                  'Тернопольська область':['46', '47', '48'],\n",
        "                  'Дніпропетровська область':['49', '50', '51', '52', '53'],\n",
        "                  'Миколаївська область':['54', '55', '56', '57'],\n",
        "                  'Чернівецька область':['58', '59', '60'],\n",
        "                  'Харьківська область':['61', '62', '63', '64'],\n",
        "                  'Одеська область':['65', '66', '67', '68'],\n",
        "                  'Запоріжська область':['69', '70', '71', '72'],\n",
        "                  'Херсонська область':['73', '74', '75'],\n",
        "                  'Івано-Франківська область':['76', '77', '78'],\n",
        "                  'Львівська область':['79', '80', '81', '82'],\n",
        "                  'Донецька область':['83', '84', '85', '86', '87'],\n",
        "                  'Закарпатська область':['88', '89', '90'],\n",
        "                  'Луганська область':['91', '92', '93', '94'],\n",
        "                  'Автономна республіка Крим':['95', '96', '97', '98'],\n",
        "                  'Севастопіль':['99']}\n",
        "        regions=dict()\n",
        "        for key,value in table_postal_code.items():\n",
        "            for item in value:\n",
        "              regions[item]=key\n",
        "        def get_region(raw,regions):\n",
        "            try:\n",
        "              raw['region']=regions[raw['tenders.procuringEntity_address_postalCode']]\n",
        "            except:  \n",
        "              raw['region']=np.nan\n",
        "            return raw\n",
        "        self.data_source=self.data_source.apply(get_region,args=(regions,),axis=1)\n",
        "        def get_region_supp(raw,regions):\n",
        "            try:\n",
        "              raw['region_supp']=regions[raw['tenderers_address_postalCode']]\n",
        "            except:  \n",
        "              raw['region_supp']=np.nan\n",
        "            return raw\n",
        "        self.data_source=self.data_source.apply(get_region_supp,args=(regions,),axis=1)\n",
        "        print('regions updated')\n",
        "        \n",
        "    def split_into_batches(self, n=20000, filename=None):\n",
        "        \n",
        "#         self.cleaning()\n",
        "        feature_batches = list()\n",
        "        n_iter = int(np.ceil(self.feature_data.shape[0] / n))\n",
        "        for i in range(n_iter):\n",
        "            start_time = time.time()\n",
        "            print('Batch {0}-{1}:'.format(i * n, (i + 1) * n))\n",
        "            unique_id = self.feature_data.iloc[i * n:(i + 1) * n]['unique_id'].values\n",
        "            feature_df = pd.DataFrame(unique_id, columns=['unique_id'])\n",
        "            feature_batches.append(feature_df)\n",
        "            # part of data_source\n",
        "            df_ = self.data_source.loc[self.data_source['participants'].isin(unique_id)]\n",
        "            print('Unique_supp:{0}-{1}'.format(len(unique_id), df_.shape[0]))\n",
        "            df_ = df_.sort_values(by='new_date')\n",
        "            self.divide_data = str(self.divide_data)[:10]\n",
        "\n",
        "            # features:\n",
        "            # 0. First activity\n",
        "            # 1. Last activity\n",
        "            def get_last_activity(raw, data,eps=0.7):\n",
        "                date=data[data['participants'] == raw['unique_id']]\n",
        "                dates=date['new_date'].values\n",
        "                # favourite host\n",
        "                try:\n",
        "                  if date['tenders.procuringEntity_identifier_id'].value_counts().iloc[0]/date.shape[0] >=eps:\n",
        "                    raw['favourite_host']=1\n",
        "                  else:\n",
        "                    raw['favourite_host']=0\n",
        "                  raw['count_unique_hosts']=date['tenders.procuringEntity_identifier_id'].value_counts().shape[0]\n",
        "                except:\n",
        "                  raw['favourite_host']=np.nan\n",
        "                  raw['count_unique_hosts']=np.nan\n",
        "                # name\n",
        "                try:\n",
        "                  raw['common_name']=list(date['common_name'].value_counts().index)[0]\n",
        "                  # get cpv\n",
        "                  raw['cpv']=','.join([str(item) for item in set(date['cpv2'].values)])\n",
        "                  # average tender price\n",
        "                  raw['average_tender_price']=np.nanmean(date['lots.value_amount'])\n",
        "                  # count lots with guarantee amount\n",
        "                  raw['count_guarantee_lots']=np.count_nonzero(date['lots.guarantee_amount'])\n",
        "                  # unique_region\n",
        "#                 raw['unique_regions']=len(set(date['region'].values))\n",
        "                  # average delivery period\n",
        "                except:\n",
        "                  raw['common_name']=np.nan\n",
        "                  raw['cpv']=np.nan\n",
        "                  raw['average_tender_price']=np.nan\n",
        "                  raw['count_guarantee_lots']=np.nan\n",
        "        \n",
        "                try:\n",
        "                  raw['average_delivery_days']=np.nanmean(date['delivery_days'])\n",
        "                except:\n",
        "                  raw['average_delivery_days']=np.nan\n",
        "                # get supp region\n",
        "#                 try:\n",
        "#                   raw['supp_region']=list(date['region_supp'].value_counts().index)[0]\n",
        "#                 except:\n",
        "#                   raw['supp_region']=np.nan\n",
        "# #                 raw['last_activity_date'] = dates[-1]\n",
        "                try:\n",
        "                    raw['first_activity_days'] = (\n",
        "                        pd.to_datetime(self.divide_data) - pd.to_datetime(dates[0])).days\n",
        "                    raw['last_activity_days'] = (\n",
        "                        pd.to_datetime(self.divide_data) - pd.to_datetime(dates[-1])).days\n",
        "                    if len(dates)!=1:\n",
        "                      raw['average_activity']=(pd.to_datetime(dates[-1])-pd.to_datetime(dates[0])).days/(len(dates)-1)\n",
        "                    else:\n",
        "                      raw['average_activity']='?'\n",
        "                except:\n",
        "                    print('--------------')\n",
        "                    raw['average_activity'] = '?'\n",
        "                    \n",
        "                return raw\n",
        "\n",
        "            feature_batches[i] = feature_batches[i].apply(get_last_activity, args=(df_[['delivery_days','lots.guarantee_amount','lots.value_amount','common_name','cpv2','participants','new_date','tenders.procuringEntity_identifier_id','tenders.id']],0.75,),\n",
        "                                                          axis=1)\n",
        "            feature_batches[i]['last_activity_days'] = feature_batches[i].apply(\n",
        "                lambda x: 0 if x['last_activity_days'] < 0 else x['last_activity_days'], axis=1)\n",
        "          \n",
        "            # 3. Count lots\n",
        "            freq = df_['participants'].value_counts()\n",
        "\n",
        "            def count_lots(raw, frequency):\n",
        "                raw['count_lots'] = frequency[raw['unique_id']]\n",
        "                return raw\n",
        "\n",
        "            feature_batches[i] = feature_batches[i].apply(count_lots, args=(freq,), axis=1)\n",
        "\n",
        "            # 4. Win, lose\n",
        "            frequency = df_[df_['winner'] == 1]['participants'].value_counts()\n",
        "            def win_lose(raw, frequency):\n",
        "                # use try bsc if index not in frequency 'win'=0\n",
        "                try:\n",
        "                    raw['win'] = frequency[raw['unique_id']]\n",
        "                except:\n",
        "                    raw['win'] = 0\n",
        "                return raw\n",
        "\n",
        "            feature_batches[i] = feature_batches[i].apply(win_lose, args=(\n",
        "                frequency,), axis=1)\n",
        "            feature_batches[i]['lose'] = feature_batches[i]['count_lots'] - feature_batches[i]['win']\n",
        "          \n",
        "#             5. Count win open\n",
        "\n",
        "            frequency = df_.loc[(df_['winner'] == 1) & (df_['tenders.procurementMethod'] == 'open')][\n",
        "                'participants'].value_counts()\n",
        "\n",
        "            def count_win_open(raw, frequency):\n",
        "                try:\n",
        "                    raw['win_open'] = frequency[raw['unique_id']]\n",
        "                except:\n",
        "                    raw['win_open'] = 0\n",
        "                return raw\n",
        "\n",
        "            feature_batches[i] = feature_batches[i].apply(count_win_open, args=(\n",
        "                frequency,), axis=1)\n",
        "            feature_batches[i]['win_not_open'] = feature_batches[i]['win'] - feature_batches[i]['win_open']\n",
        "          \n",
        "#             6. Count lose open\n",
        "            frequency = df_.loc[(df_['winner'] == 0) & (df_['tenders.procurementMethod'] == 'open')][\n",
        "                'participants'].value_counts()\n",
        "\n",
        "            def count_lose_open(raw, frequency):\n",
        "                try:\n",
        "                    raw['lose_open'] = frequency[raw['unique_id']]\n",
        "                except:\n",
        "                    raw['lose_open'] = 0\n",
        "                return raw\n",
        "\n",
        "            feature_batches[i] = feature_batches[i].apply(count_lose_open, args=(\n",
        "                frequency,), axis=1)\n",
        "#             feature_batches[i]['lose_not_open'] = feature_batches[i]['lose'] - feature_batches[i]['lose_open']\n",
        "          \n",
        "            # 7. Average economy\n",
        "            data = df_[df_['winner'] == 1][\n",
        "                ['participants', 'awards.value_amount', 'lots.value_amount']]\n",
        "            data['economy_value'] = data['lots.value_amount'] - data['awards.value_amount']\n",
        "            data['economy_percent'] = data['awards.value_amount'] / data['lots.value_amount']\n",
        "\n",
        "            def get_economy(raw, data):\n",
        "                d = data[data['participants'] == raw['unique_id']]\n",
        "                raw['economy_value'] = np.nanmean(d['economy_value'])\n",
        "                raw['average_winner_price']=np.nansum(d['awards.value_amount'])/d.shape[0]\n",
        "                raw['economy_percent'] = np.nanmean(d['economy_percent'])\n",
        "                return raw\n",
        "\n",
        "            feature_batches[i] = feature_batches[i].apply(get_economy, args=(data,), axis=1)\n",
        "#             8. Get label\n",
        "            participants = list(self.label_data['participants'].value_counts().index)\n",
        "\n",
        "            def get_y(raw, participants):\n",
        "              if raw['unique_id'] in participants:\n",
        "                  raw['y'] = 1\n",
        "              else:\n",
        "                  raw['y'] = 0\n",
        "              return raw\n",
        "#             9. Get favourite hosts\n",
        "            feature_batches[i] = feature_batches[i].apply(get_y, args=(participants,), axis=1)\n",
        "            # 10. Get unique region\n",
        "        if filename:\n",
        "            print(f'write to csv')\n",
        "            feature_batches[i].to_csv(filename + '{0}'.format(i) + '.csv', index=False)\n",
        "\n",
        "        # concat dataframes into one\n",
        "        print('Concat')\n",
        "        all_batches_df = pd.concat(feature_batches)\n",
        "        self.feature_data = all_batches_df.copy()\n",
        "        if filename:\n",
        "            print('write to csv_all')\n",
        "            all_batches_df.to_csv(filename + '_all.csv', index=False)\n",
        "        print(\" --- %s seconds ---\" % (time.time() - start_time))\n",
        "        all_batches_df['start_data_unique']=self.start_data_unique\n",
        "        return all_batches_df\n",
        "    def get_label(self):\n",
        "        participants = list(self.label_data['participants'].value_counts().index)\n",
        "\n",
        "        def get_y(raw, participants):\n",
        "            if raw['unique_id'] in participants:\n",
        "                raw['y'] = 1\n",
        "            else:\n",
        "                raw['y'] = 0\n",
        "            return raw\n",
        "\n",
        "        self.feature_data = self.feature_data.apply(get_y, args=(participants,), axis=1)\n"
      ],
      "execution_count": 0,
      "outputs": []
    },
    {
      "metadata": {
        "id": "y1ABSfek9iKl",
        "colab_type": "code",
        "colab": {}
      },
      "cell_type": "code",
      "source": [
        "col=['delivery_days','lots.guarantee_amount','lots.value_amount',\n",
        "     'common_name','cpv2','participants','new_date','tenders.procuringEntity_identifier_id',\n",
        "     'tenders.id','tenders.procurementMethod','winner','awards.value_amount','tenders.procuringEntity_address_postalCode']"
      ],
      "execution_count": 0,
      "outputs": []
    },
    {
      "metadata": {
        "id": "hVlME9wMCfvd",
        "colab_type": "code",
        "colab": {}
      },
      "cell_type": "code",
      "source": [
        "start_period = '2016-09-10'\n",
        "start_data_unique = ['2016-09-10', '2016-12-09', '2017-03-09', '2017-06-07', '2017-09-05', '2017-12-04','2018-03-04','2018-06-02']\n",
        "end_period = ['2017-03-09', '2017-06-07', '2017-09-05', '2017-12-04', '2018-03-04', '2018-06-02','2018-08-31','2018-11-29']"
      ],
      "execution_count": 0,
      "outputs": []
    },
    {
      "metadata": {
        "id": "0LApdEdtN3NL",
        "colab_type": "code",
        "colab": {}
      },
      "cell_type": "code",
      "source": [
        "df_=df[col]"
      ],
      "execution_count": 0,
      "outputs": []
    },
    {
      "metadata": {
        "id": "sKuQjPa6DMIQ",
        "colab_type": "code",
        "colab": {
          "base_uri": "https://localhost:8080/",
          "height": 85
        },
        "outputId": "4358f02f-6bc2-45e6-bceb-64578913c82f"
      },
      "cell_type": "code",
      "source": [
        "df_list=list()\n",
        "for i in range(len(end_period)):\n",
        "  \n",
        "  prepr = DataPreproccessing(df_,start_period='2016-09-10',end_period=end_period[i],start_data_unique=start_data_unique[i],churn_interval=90)\n",
        "  a=prepr.split_into_batches(n=10000)\n",
        "  df_list.append(a)\n",
        "  a.to_csv(f'churn_{i}.csv')\n",
        "  if i>0:\n",
        "    print('i={0}'.format(i))\n",
        "    print('Bad rows : {0}'.format(prepr.feature_data[prepr.feature_data['unique_id'].isin(z)].shape[0]))\n",
        "  z=prepr.feature_data[prepr.feature_data['y']==0]['unique_id'].values\n",
        "train=pd.concat(df_list)\n",
        "train.to_csv('111.csv')"
      ],
      "execution_count": 0,
      "outputs": [
        {
          "output_type": "stream",
          "text": [
            "2016-12-09 00:00:00\n",
            "Batch 0-10000:\n",
            "Unique_supp:10000-198721\n"
          ],
          "name": "stdout"
        },
        {
          "output_type": "stream",
          "text": [
            "/usr/local/lib/python3.6/dist-packages/ipykernel_launcher.py:135: RuntimeWarning: Mean of empty slice\n"
          ],
          "name": "stderr"
        }
      ]
    }
  ]
}