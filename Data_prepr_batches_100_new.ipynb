{
  "nbformat": 4,
  "nbformat_minor": 0,
  "metadata": {
    "colab": {
      "name": "Data_prepr_batches_100_new.ipynb",
      "version": "0.3.2",
      "provenance": [],
      "include_colab_link": true
    },
    "kernelspec": {
      "name": "python3",
      "display_name": "Python 3"
    }
  },
  "cells": [
    {
      "cell_type": "markdown",
      "metadata": {
        "id": "view-in-github",
        "colab_type": "text"
      },
      "source": [
        "<a href=\"https://colab.research.google.com/github/ShykerBogdan/Prozzoro_project/blob/master/Data_prepr_batches_100_new.ipynb\" target=\"_parent\"><img src=\"https://colab.research.google.com/assets/colab-badge.svg\" alt=\"Open In Colab\"/></a>"
      ]
    },
    {
      "metadata": {
        "id": "W5S7eeND767h",
        "colab_type": "code",
        "outputId": "513e6301-d85b-4744-81b5-2a3819671fd6",
        "colab": {
          "base_uri": "https://localhost:8080/",
          "height": 122
        }
      },
      "cell_type": "code",
      "source": [
        "from google.colab import drive\n",
        "drive.mount('/content/gdrive')"
      ],
      "execution_count": 2,
      "outputs": [
        {
          "output_type": "stream",
          "text": [
            "Go to this URL in a browser: https://accounts.google.com/o/oauth2/auth?client_id=947318989803-6bn6qk8qdgf4n4g3pfee6491hc0brc4i.apps.googleusercontent.com&redirect_uri=urn%3Aietf%3Awg%3Aoauth%3A2.0%3Aoob&scope=email%20https%3A%2F%2Fwww.googleapis.com%2Fauth%2Fdocs.test%20https%3A%2F%2Fwww.googleapis.com%2Fauth%2Fdrive%20https%3A%2F%2Fwww.googleapis.com%2Fauth%2Fdrive.photos.readonly%20https%3A%2F%2Fwww.googleapis.com%2Fauth%2Fpeopleapi.readonly&response_type=code\n",
            "\n",
            "Enter your authorization code:\n",
            "··········\n",
            "Mounted at /content/gdrive\n"
          ],
          "name": "stdout"
        }
      ]
    },
    {
      "metadata": {
        "id": "m3ND2hmY8G2X",
        "colab_type": "code",
        "colab": {}
      },
      "cell_type": "code",
      "source": [
        "import pandas as pd\n",
        "import time\n",
        "from datetime import datetime\n",
        "import numpy as np"
      ],
      "execution_count": 0,
      "outputs": []
    },
    {
      "metadata": {
        "id": "OGtgX86K8G-O",
        "colab_type": "code",
        "colab": {}
      },
      "cell_type": "code",
      "source": [
        "filename='/content/gdrive/My Drive/ML_proz/data_source_cleaned.csv'\n",
        "df=pd.read_csv(filename)\n",
        "df.shape"
      ],
      "execution_count": 0,
      "outputs": []
    },
    {
      "metadata": {
        "id": "HEUZGnuMWP1M",
        "colab_type": "code",
        "colab": {
          "base_uri": "https://localhost:8080/",
          "height": 948
        },
        "outputId": "9605c45a-f0e8-4e45-d44c-d5e0629e0230"
      },
      "cell_type": "code",
      "source": [
        ""
      ],
      "execution_count": 92,
      "outputs": [
        {
          "output_type": "error",
          "ename": "OutOfBoundsDatetime",
          "evalue": "ignored",
          "traceback": [
            "\u001b[0;31m---------------------------------------------------------------------------\u001b[0m",
            "\u001b[0;31mTypeError\u001b[0m                                 Traceback (most recent call last)",
            "\u001b[0;32m/usr/local/lib/python3.6/dist-packages/pandas/core/tools/datetimes.py\u001b[0m in \u001b[0;36m_convert_listlike\u001b[0;34m(arg, box, format, name, tz)\u001b[0m\n\u001b[1;32m    302\u001b[0m             \u001b[0;32mtry\u001b[0m\u001b[0;34m:\u001b[0m\u001b[0;34m\u001b[0m\u001b[0;34m\u001b[0m\u001b[0m\n\u001b[0;32m--> 303\u001b[0;31m                 \u001b[0mvalues\u001b[0m\u001b[0;34m,\u001b[0m \u001b[0mtz\u001b[0m \u001b[0;34m=\u001b[0m \u001b[0mtslib\u001b[0m\u001b[0;34m.\u001b[0m\u001b[0mdatetime_to_datetime64\u001b[0m\u001b[0;34m(\u001b[0m\u001b[0marg\u001b[0m\u001b[0;34m)\u001b[0m\u001b[0;34m\u001b[0m\u001b[0;34m\u001b[0m\u001b[0m\n\u001b[0m\u001b[1;32m    304\u001b[0m                 \u001b[0;32mreturn\u001b[0m \u001b[0mDatetimeIndex\u001b[0m\u001b[0;34m.\u001b[0m\u001b[0m_simple_new\u001b[0m\u001b[0;34m(\u001b[0m\u001b[0mvalues\u001b[0m\u001b[0;34m,\u001b[0m \u001b[0mname\u001b[0m\u001b[0;34m=\u001b[0m\u001b[0mname\u001b[0m\u001b[0;34m,\u001b[0m \u001b[0mtz\u001b[0m\u001b[0;34m=\u001b[0m\u001b[0mtz\u001b[0m\u001b[0;34m)\u001b[0m\u001b[0;34m\u001b[0m\u001b[0;34m\u001b[0m\u001b[0m\n",
            "\u001b[0;32mpandas/_libs/tslib.pyx\u001b[0m in \u001b[0;36mpandas._libs.tslib.datetime_to_datetime64\u001b[0;34m()\u001b[0m\n",
            "\u001b[0;31mTypeError\u001b[0m: Unrecognized value type: <class 'str'>",
            "\nDuring handling of the above exception, another exception occurred:\n",
            "\u001b[0;31mOutOfBoundsDatetime\u001b[0m                       Traceback (most recent call last)",
            "\u001b[0;32m<ipython-input-92-6aa8aa8cf2c8>\u001b[0m in \u001b[0;36m<module>\u001b[0;34m()\u001b[0m\n\u001b[0;32m----> 1\u001b[0;31m \u001b[0md\u001b[0m\u001b[0;34m=\u001b[0m\u001b[0mdf\u001b[0m\u001b[0;34m[\u001b[0m\u001b[0mpd\u001b[0m\u001b[0;34m.\u001b[0m\u001b[0mto_datetime\u001b[0m\u001b[0;34m(\u001b[0m\u001b[0mdf\u001b[0m\u001b[0;34m[\u001b[0m\u001b[0;34m'new_date'\u001b[0m\u001b[0;34m]\u001b[0m\u001b[0;34m)\u001b[0m\u001b[0;34m>\u001b[0m\u001b[0;34m'2016-09-30'\u001b[0m\u001b[0;34m]\u001b[0m\u001b[0;34m\u001b[0m\u001b[0;34m\u001b[0m\u001b[0m\n\u001b[0m",
            "\u001b[0;32m/usr/local/lib/python3.6/dist-packages/pandas/core/tools/datetimes.py\u001b[0m in \u001b[0;36mto_datetime\u001b[0;34m(arg, errors, dayfirst, yearfirst, utc, box, format, exact, unit, infer_datetime_format, origin)\u001b[0m\n\u001b[1;32m    371\u001b[0m     \u001b[0;32melif\u001b[0m \u001b[0misinstance\u001b[0m\u001b[0;34m(\u001b[0m\u001b[0marg\u001b[0m\u001b[0;34m,\u001b[0m \u001b[0mABCSeries\u001b[0m\u001b[0;34m)\u001b[0m\u001b[0;34m:\u001b[0m\u001b[0;34m\u001b[0m\u001b[0;34m\u001b[0m\u001b[0m\n\u001b[1;32m    372\u001b[0m         \u001b[0;32mfrom\u001b[0m \u001b[0mpandas\u001b[0m \u001b[0;32mimport\u001b[0m \u001b[0mSeries\u001b[0m\u001b[0;34m\u001b[0m\u001b[0;34m\u001b[0m\u001b[0m\n\u001b[0;32m--> 373\u001b[0;31m         \u001b[0mvalues\u001b[0m \u001b[0;34m=\u001b[0m \u001b[0m_convert_listlike\u001b[0m\u001b[0;34m(\u001b[0m\u001b[0marg\u001b[0m\u001b[0;34m.\u001b[0m\u001b[0m_values\u001b[0m\u001b[0;34m,\u001b[0m \u001b[0;32mTrue\u001b[0m\u001b[0;34m,\u001b[0m \u001b[0mformat\u001b[0m\u001b[0;34m)\u001b[0m\u001b[0;34m\u001b[0m\u001b[0;34m\u001b[0m\u001b[0m\n\u001b[0m\u001b[1;32m    374\u001b[0m         \u001b[0mresult\u001b[0m \u001b[0;34m=\u001b[0m \u001b[0mSeries\u001b[0m\u001b[0;34m(\u001b[0m\u001b[0mvalues\u001b[0m\u001b[0;34m,\u001b[0m \u001b[0mindex\u001b[0m\u001b[0;34m=\u001b[0m\u001b[0marg\u001b[0m\u001b[0;34m.\u001b[0m\u001b[0mindex\u001b[0m\u001b[0;34m,\u001b[0m \u001b[0mname\u001b[0m\u001b[0;34m=\u001b[0m\u001b[0marg\u001b[0m\u001b[0;34m.\u001b[0m\u001b[0mname\u001b[0m\u001b[0;34m)\u001b[0m\u001b[0;34m\u001b[0m\u001b[0;34m\u001b[0m\u001b[0m\n\u001b[1;32m    375\u001b[0m     \u001b[0;32melif\u001b[0m \u001b[0misinstance\u001b[0m\u001b[0;34m(\u001b[0m\u001b[0marg\u001b[0m\u001b[0;34m,\u001b[0m \u001b[0;34m(\u001b[0m\u001b[0mABCDataFrame\u001b[0m\u001b[0;34m,\u001b[0m \u001b[0mMutableMapping\u001b[0m\u001b[0;34m)\u001b[0m\u001b[0;34m)\u001b[0m\u001b[0;34m:\u001b[0m\u001b[0;34m\u001b[0m\u001b[0;34m\u001b[0m\u001b[0m\n",
            "\u001b[0;32m/usr/local/lib/python3.6/dist-packages/pandas/core/tools/datetimes.py\u001b[0m in \u001b[0;36m_convert_listlike\u001b[0;34m(arg, box, format, name, tz)\u001b[0m\n\u001b[1;32m    304\u001b[0m                 \u001b[0;32mreturn\u001b[0m \u001b[0mDatetimeIndex\u001b[0m\u001b[0;34m.\u001b[0m\u001b[0m_simple_new\u001b[0m\u001b[0;34m(\u001b[0m\u001b[0mvalues\u001b[0m\u001b[0;34m,\u001b[0m \u001b[0mname\u001b[0m\u001b[0;34m=\u001b[0m\u001b[0mname\u001b[0m\u001b[0;34m,\u001b[0m \u001b[0mtz\u001b[0m\u001b[0;34m=\u001b[0m\u001b[0mtz\u001b[0m\u001b[0;34m)\u001b[0m\u001b[0;34m\u001b[0m\u001b[0;34m\u001b[0m\u001b[0m\n\u001b[1;32m    305\u001b[0m             \u001b[0;32mexcept\u001b[0m \u001b[0;34m(\u001b[0m\u001b[0mValueError\u001b[0m\u001b[0;34m,\u001b[0m \u001b[0mTypeError\u001b[0m\u001b[0;34m)\u001b[0m\u001b[0;34m:\u001b[0m\u001b[0;34m\u001b[0m\u001b[0;34m\u001b[0m\u001b[0m\n\u001b[0;32m--> 306\u001b[0;31m                 \u001b[0;32mraise\u001b[0m \u001b[0me\u001b[0m\u001b[0;34m\u001b[0m\u001b[0;34m\u001b[0m\u001b[0m\n\u001b[0m\u001b[1;32m    307\u001b[0m \u001b[0;34m\u001b[0m\u001b[0m\n\u001b[1;32m    308\u001b[0m     \u001b[0;32mif\u001b[0m \u001b[0marg\u001b[0m \u001b[0;32mis\u001b[0m \u001b[0;32mNone\u001b[0m\u001b[0;34m:\u001b[0m\u001b[0;34m\u001b[0m\u001b[0;34m\u001b[0m\u001b[0m\n",
            "\u001b[0;32m/usr/local/lib/python3.6/dist-packages/pandas/core/tools/datetimes.py\u001b[0m in \u001b[0;36m_convert_listlike\u001b[0;34m(arg, box, format, name, tz)\u001b[0m\n\u001b[1;32m    292\u001b[0m                     \u001b[0mdayfirst\u001b[0m\u001b[0;34m=\u001b[0m\u001b[0mdayfirst\u001b[0m\u001b[0;34m,\u001b[0m\u001b[0;34m\u001b[0m\u001b[0;34m\u001b[0m\u001b[0m\n\u001b[1;32m    293\u001b[0m                     \u001b[0myearfirst\u001b[0m\u001b[0;34m=\u001b[0m\u001b[0myearfirst\u001b[0m\u001b[0;34m,\u001b[0m\u001b[0;34m\u001b[0m\u001b[0;34m\u001b[0m\u001b[0m\n\u001b[0;32m--> 294\u001b[0;31m                     \u001b[0mrequire_iso8601\u001b[0m\u001b[0;34m=\u001b[0m\u001b[0mrequire_iso8601\u001b[0m\u001b[0;34m\u001b[0m\u001b[0;34m\u001b[0m\u001b[0m\n\u001b[0m\u001b[1;32m    295\u001b[0m                 )\n\u001b[1;32m    296\u001b[0m \u001b[0;34m\u001b[0m\u001b[0m\n",
            "\u001b[0;32mpandas/_libs/tslib.pyx\u001b[0m in \u001b[0;36mpandas._libs.tslib.array_to_datetime\u001b[0;34m()\u001b[0m\n",
            "\u001b[0;32mpandas/_libs/tslib.pyx\u001b[0m in \u001b[0;36mpandas._libs.tslib.array_to_datetime\u001b[0;34m()\u001b[0m\n",
            "\u001b[0;32mpandas/_libs/tslib.pyx\u001b[0m in \u001b[0;36mpandas._libs.tslib.array_to_datetime\u001b[0;34m()\u001b[0m\n",
            "\u001b[0;32mpandas/_libs/tslib.pyx\u001b[0m in \u001b[0;36mpandas._libs.tslib.array_to_datetime\u001b[0;34m()\u001b[0m\n",
            "\u001b[0;32mpandas/_libs/tslib.pyx\u001b[0m in \u001b[0;36mpandas._libs.tslib.convert_datetime_to_tsobject\u001b[0;34m()\u001b[0m\n",
            "\u001b[0;32mpandas/_libs/tslib.pyx\u001b[0m in \u001b[0;36mpandas._libs.tslib._check_dts_bounds\u001b[0;34m()\u001b[0m\n",
            "\u001b[0;31mOutOfBoundsDatetime\u001b[0m: Out of bounds nanosecond timestamp: 201-07-12 00:00:00"
          ]
        }
      ]
    },
    {
      "metadata": {
        "id": "K4EY0HomWXlX",
        "colab_type": "code",
        "colab": {}
      },
      "cell_type": "code",
      "source": [
        ""
      ],
      "execution_count": 0,
      "outputs": []
    },
    {
      "metadata": {
        "id": "45PqKr00k5Ox",
        "colab_type": "code",
        "colab": {
          "base_uri": "https://localhost:8080/",
          "height": 459
        },
        "outputId": "060001d0-c029-4d51-d32e-f1b6ffdf95cb"
      },
      "cell_type": "code",
      "source": [
        "df.columns"
      ],
      "execution_count": 6,
      "outputs": [
        {
          "output_type": "execute_result",
          "data": {
            "text/plain": [
              "Index(['awards.bid_id', 'awards.count_documents', 'awards.date', 'awards.id',\n",
              "       'awards.status', 'awards.suppliers_identifier_id',\n",
              "       'awards.suppliers_identifier_legalName', 'awards.suppliers_name',\n",
              "       'awards.value_amount', 'contracts.awardID', 'contracts.date',\n",
              "       'contracts.dateSigned', 'contracts.id', 'contracts.status',\n",
              "       'contracts.value_amount', 'lots.auctionPeriod_startDate',\n",
              "       'lots.guarantee_amount', 'lots.guarantee_currency', 'lots.id',\n",
              "       'lots.status', 'lots.value_amount', 'lots.value_valueAddedTaxIncluded',\n",
              "       'tender_id', 'tenderers_address_postalCode', 'tenderers_identifier_id',\n",
              "       'tenderers_name', 'tenders.auctionPeriod_startDate',\n",
              "       'tenders.awardCriteria', 'tenders.awardPeriod_startDate',\n",
              "       'tenders.complaintPeriod_endDate', 'tenders.complaintPeriod_startDate',\n",
              "       'tenders.enquiryPeriod_endDate', 'tenders.enquiryPeriod_startDate',\n",
              "       'tenders.guarantee_amount', 'tenders.id', 'tenders.owner',\n",
              "       'tenders.procurementMethod', 'tenders.procurementMethodType',\n",
              "       'tenders.procuringEntity_address_postalCode',\n",
              "       'tenders.procuringEntity_identifier_id',\n",
              "       'tenders.procuringEntity_identifier_legalName',\n",
              "       'tenders.procuringEntity_identifier_scheme',\n",
              "       'tenders.procuringEntity_name', 'tenders.status',\n",
              "       'tenders.submissionMethod', 'tenders.tenderID',\n",
              "       'tenders.tenderPeriod_endDate', 'tenders.tenderPeriod_startDate',\n",
              "       'tenders.value_amount', 'tenders.value_currency',\n",
              "       'tenders.value_valueAddedTaxIncluded', 'value_amount', 'value_currency',\n",
              "       'participants', 'winner', 'date_from_id', 'new_date'],\n",
              "      dtype='object')"
            ]
          },
          "metadata": {
            "tags": []
          },
          "execution_count": 6
        }
      ]
    },
    {
      "metadata": {
        "id": "jAbFmk4yutEr",
        "colab_type": "code",
        "colab": {
          "base_uri": "https://localhost:8080/",
          "height": 359
        },
        "outputId": "c148c843-a26c-4cfe-ff59-3f27cad68931"
      },
      "cell_type": "code",
      "source": [
        "df[['tenderers_address_postalCode']].head(10)"
      ],
      "execution_count": 47,
      "outputs": [
        {
          "output_type": "execute_result",
          "data": {
            "text/html": [
              "<div>\n",
              "<style scoped>\n",
              "    .dataframe tbody tr th:only-of-type {\n",
              "        vertical-align: middle;\n",
              "    }\n",
              "\n",
              "    .dataframe tbody tr th {\n",
              "        vertical-align: top;\n",
              "    }\n",
              "\n",
              "    .dataframe thead th {\n",
              "        text-align: right;\n",
              "    }\n",
              "</style>\n",
              "<table border=\"1\" class=\"dataframe\">\n",
              "  <thead>\n",
              "    <tr style=\"text-align: right;\">\n",
              "      <th></th>\n",
              "      <th>tenderers_address_postalCode</th>\n",
              "    </tr>\n",
              "  </thead>\n",
              "  <tbody>\n",
              "    <tr>\n",
              "      <th>0</th>\n",
              "      <td>93400</td>\n",
              "    </tr>\n",
              "    <tr>\n",
              "      <th>1</th>\n",
              "      <td>04114</td>\n",
              "    </tr>\n",
              "    <tr>\n",
              "      <th>2</th>\n",
              "      <td>04114</td>\n",
              "    </tr>\n",
              "    <tr>\n",
              "      <th>3</th>\n",
              "      <td>03062</td>\n",
              "    </tr>\n",
              "    <tr>\n",
              "      <th>4</th>\n",
              "      <td>40030</td>\n",
              "    </tr>\n",
              "    <tr>\n",
              "      <th>5</th>\n",
              "      <td>NaN</td>\n",
              "    </tr>\n",
              "    <tr>\n",
              "      <th>6</th>\n",
              "      <td>NaN</td>\n",
              "    </tr>\n",
              "    <tr>\n",
              "      <th>7</th>\n",
              "      <td>NaN</td>\n",
              "    </tr>\n",
              "    <tr>\n",
              "      <th>8</th>\n",
              "      <td>NaN</td>\n",
              "    </tr>\n",
              "    <tr>\n",
              "      <th>9</th>\n",
              "      <td>NaN</td>\n",
              "    </tr>\n",
              "  </tbody>\n",
              "</table>\n",
              "</div>"
            ],
            "text/plain": [
              "  tenderers_address_postalCode\n",
              "0                        93400\n",
              "1                        04114\n",
              "2                        04114\n",
              "3                        03062\n",
              "4                        40030\n",
              "5                          NaN\n",
              "6                          NaN\n",
              "7                          NaN\n",
              "8                          NaN\n",
              "9                          NaN"
            ]
          },
          "metadata": {
            "tags": []
          },
          "execution_count": 47
        }
      ]
    },
    {
      "metadata": {
        "id": "OTbW7F0zoXyD",
        "colab_type": "code",
        "colab": {
          "base_uri": "https://localhost:8080/",
          "height": 1351
        },
        "outputId": "d2198d5e-8a77-4d2b-f62e-5dfe61dcaf13"
      },
      "cell_type": "code",
      "source": [
        "df[df['participants']=='14017091'][['tenderers_address_postalCode']]"
      ],
      "execution_count": 48,
      "outputs": [
        {
          "output_type": "execute_result",
          "data": {
            "text/html": [
              "<div>\n",
              "<style scoped>\n",
              "    .dataframe tbody tr th:only-of-type {\n",
              "        vertical-align: middle;\n",
              "    }\n",
              "\n",
              "    .dataframe tbody tr th {\n",
              "        vertical-align: top;\n",
              "    }\n",
              "\n",
              "    .dataframe thead th {\n",
              "        text-align: right;\n",
              "    }\n",
              "</style>\n",
              "<table border=\"1\" class=\"dataframe\">\n",
              "  <thead>\n",
              "    <tr style=\"text-align: right;\">\n",
              "      <th></th>\n",
              "      <th>tenderers_address_postalCode</th>\n",
              "    </tr>\n",
              "  </thead>\n",
              "  <tbody>\n",
              "    <tr>\n",
              "      <th>4</th>\n",
              "      <td>40030</td>\n",
              "    </tr>\n",
              "    <tr>\n",
              "      <th>136078</th>\n",
              "      <td>40030</td>\n",
              "    </tr>\n",
              "    <tr>\n",
              "      <th>156721</th>\n",
              "      <td>NaN</td>\n",
              "    </tr>\n",
              "    <tr>\n",
              "      <th>286834</th>\n",
              "      <td>NaN</td>\n",
              "    </tr>\n",
              "    <tr>\n",
              "      <th>325392</th>\n",
              "      <td>40030</td>\n",
              "    </tr>\n",
              "    <tr>\n",
              "      <th>367956</th>\n",
              "      <td>40020</td>\n",
              "    </tr>\n",
              "    <tr>\n",
              "      <th>386624</th>\n",
              "      <td>40030</td>\n",
              "    </tr>\n",
              "    <tr>\n",
              "      <th>420038</th>\n",
              "      <td>40000</td>\n",
              "    </tr>\n",
              "    <tr>\n",
              "      <th>639244</th>\n",
              "      <td>40000</td>\n",
              "    </tr>\n",
              "    <tr>\n",
              "      <th>832533</th>\n",
              "      <td>NaN</td>\n",
              "    </tr>\n",
              "    <tr>\n",
              "      <th>900716</th>\n",
              "      <td>NaN</td>\n",
              "    </tr>\n",
              "    <tr>\n",
              "      <th>954109</th>\n",
              "      <td>40030</td>\n",
              "    </tr>\n",
              "    <tr>\n",
              "      <th>1056667</th>\n",
              "      <td>NaN</td>\n",
              "    </tr>\n",
              "    <tr>\n",
              "      <th>1080544</th>\n",
              "      <td>NaN</td>\n",
              "    </tr>\n",
              "    <tr>\n",
              "      <th>1108510</th>\n",
              "      <td>40030</td>\n",
              "    </tr>\n",
              "    <tr>\n",
              "      <th>1145151</th>\n",
              "      <td>40000</td>\n",
              "    </tr>\n",
              "    <tr>\n",
              "      <th>1180920</th>\n",
              "      <td>NaN</td>\n",
              "    </tr>\n",
              "    <tr>\n",
              "      <th>1368542</th>\n",
              "      <td>NaN</td>\n",
              "    </tr>\n",
              "    <tr>\n",
              "      <th>1373421</th>\n",
              "      <td>NaN</td>\n",
              "    </tr>\n",
              "    <tr>\n",
              "      <th>1398611</th>\n",
              "      <td>40030</td>\n",
              "    </tr>\n",
              "    <tr>\n",
              "      <th>1401664</th>\n",
              "      <td>NaN</td>\n",
              "    </tr>\n",
              "    <tr>\n",
              "      <th>1488896</th>\n",
              "      <td>NaN</td>\n",
              "    </tr>\n",
              "    <tr>\n",
              "      <th>1498650</th>\n",
              "      <td>NaN</td>\n",
              "    </tr>\n",
              "    <tr>\n",
              "      <th>1565107</th>\n",
              "      <td>NaN</td>\n",
              "    </tr>\n",
              "    <tr>\n",
              "      <th>1566668</th>\n",
              "      <td>NaN</td>\n",
              "    </tr>\n",
              "    <tr>\n",
              "      <th>1569978</th>\n",
              "      <td>40000</td>\n",
              "    </tr>\n",
              "    <tr>\n",
              "      <th>1805684</th>\n",
              "      <td>40030</td>\n",
              "    </tr>\n",
              "    <tr>\n",
              "      <th>1811073</th>\n",
              "      <td>NaN</td>\n",
              "    </tr>\n",
              "    <tr>\n",
              "      <th>1837834</th>\n",
              "      <td>40020</td>\n",
              "    </tr>\n",
              "    <tr>\n",
              "      <th>1837835</th>\n",
              "      <td>40000</td>\n",
              "    </tr>\n",
              "    <tr>\n",
              "      <th>1843816</th>\n",
              "      <td>NaN</td>\n",
              "    </tr>\n",
              "    <tr>\n",
              "      <th>2111395</th>\n",
              "      <td>NaN</td>\n",
              "    </tr>\n",
              "    <tr>\n",
              "      <th>2253578</th>\n",
              "      <td>NaN</td>\n",
              "    </tr>\n",
              "    <tr>\n",
              "      <th>2353360</th>\n",
              "      <td>NaN</td>\n",
              "    </tr>\n",
              "    <tr>\n",
              "      <th>2492984</th>\n",
              "      <td>40000</td>\n",
              "    </tr>\n",
              "    <tr>\n",
              "      <th>2660395</th>\n",
              "      <td>40000</td>\n",
              "    </tr>\n",
              "    <tr>\n",
              "      <th>2687060</th>\n",
              "      <td>NaN</td>\n",
              "    </tr>\n",
              "    <tr>\n",
              "      <th>2805103</th>\n",
              "      <td>NaN</td>\n",
              "    </tr>\n",
              "    <tr>\n",
              "      <th>2882489</th>\n",
              "      <td>40000</td>\n",
              "    </tr>\n",
              "    <tr>\n",
              "      <th>3062060</th>\n",
              "      <td>40030</td>\n",
              "    </tr>\n",
              "    <tr>\n",
              "      <th>3066843</th>\n",
              "      <td>40030</td>\n",
              "    </tr>\n",
              "    <tr>\n",
              "      <th>3097851</th>\n",
              "      <td>40030</td>\n",
              "    </tr>\n",
              "  </tbody>\n",
              "</table>\n",
              "</div>"
            ],
            "text/plain": [
              "        tenderers_address_postalCode\n",
              "4                              40030\n",
              "136078                         40030\n",
              "156721                           NaN\n",
              "286834                           NaN\n",
              "325392                         40030\n",
              "367956                         40020\n",
              "386624                         40030\n",
              "420038                         40000\n",
              "639244                         40000\n",
              "832533                           NaN\n",
              "900716                           NaN\n",
              "954109                         40030\n",
              "1056667                          NaN\n",
              "1080544                          NaN\n",
              "1108510                        40030\n",
              "1145151                        40000\n",
              "1180920                          NaN\n",
              "1368542                          NaN\n",
              "1373421                          NaN\n",
              "1398611                        40030\n",
              "1401664                          NaN\n",
              "1488896                          NaN\n",
              "1498650                          NaN\n",
              "1565107                          NaN\n",
              "1566668                          NaN\n",
              "1569978                        40000\n",
              "1805684                        40030\n",
              "1811073                          NaN\n",
              "1837834                        40020\n",
              "1837835                        40000\n",
              "1843816                          NaN\n",
              "2111395                          NaN\n",
              "2253578                          NaN\n",
              "2353360                          NaN\n",
              "2492984                        40000\n",
              "2660395                        40000\n",
              "2687060                          NaN\n",
              "2805103                          NaN\n",
              "2882489                        40000\n",
              "3062060                        40030\n",
              "3066843                        40030\n",
              "3097851                        40030"
            ]
          },
          "metadata": {
            "tags": []
          },
          "execution_count": 48
        }
      ]
    },
    {
      "metadata": {
        "id": "LEQ7yUMIWoFG",
        "colab_type": "code",
        "colab": {
          "base_uri": "https://localhost:8080/",
          "height": 459
        },
        "outputId": "927da232-582f-4739-f5cc-1ed2cc5fba8f"
      },
      "cell_type": "code",
      "source": [
        "df.columns"
      ],
      "execution_count": 84,
      "outputs": [
        {
          "output_type": "execute_result",
          "data": {
            "text/plain": [
              "Index(['awards.bid_id', 'awards.count_documents', 'awards.date', 'awards.id',\n",
              "       'awards.status', 'awards.suppliers_identifier_id',\n",
              "       'awards.suppliers_identifier_legalName', 'awards.suppliers_name',\n",
              "       'awards.value_amount', 'contracts.awardID', 'contracts.date',\n",
              "       'contracts.dateSigned', 'contracts.id', 'contracts.status',\n",
              "       'contracts.value_amount', 'lots.auctionPeriod_startDate',\n",
              "       'lots.guarantee_amount', 'lots.guarantee_currency', 'lots.id',\n",
              "       'lots.status', 'lots.value_amount', 'lots.value_valueAddedTaxIncluded',\n",
              "       'tender_id', 'tenderers_address_postalCode', 'tenderers_identifier_id',\n",
              "       'tenderers_name', 'tenders.auctionPeriod_startDate',\n",
              "       'tenders.awardCriteria', 'tenders.awardPeriod_startDate',\n",
              "       'tenders.complaintPeriod_endDate', 'tenders.complaintPeriod_startDate',\n",
              "       'tenders.enquiryPeriod_endDate', 'tenders.enquiryPeriod_startDate',\n",
              "       'tenders.guarantee_amount', 'tenders.id', 'tenders.owner',\n",
              "       'tenders.procurementMethod', 'tenders.procurementMethodType',\n",
              "       'tenders.procuringEntity_address_postalCode',\n",
              "       'tenders.procuringEntity_identifier_id',\n",
              "       'tenders.procuringEntity_identifier_legalName',\n",
              "       'tenders.procuringEntity_identifier_scheme',\n",
              "       'tenders.procuringEntity_name', 'tenders.status',\n",
              "       'tenders.submissionMethod', 'tenders.tenderID',\n",
              "       'tenders.tenderPeriod_endDate', 'tenders.tenderPeriod_startDate',\n",
              "       'tenders.value_amount', 'tenders.value_currency',\n",
              "       'tenders.value_valueAddedTaxIncluded', 'value_amount', 'value_currency',\n",
              "       'participants', 'winner', 'date_from_id', 'new_date'],\n",
              "      dtype='object')"
            ]
          },
          "metadata": {
            "tags": []
          },
          "execution_count": 84
        }
      ]
    },
    {
      "metadata": {
        "id": "Fl7l7UzT7hd0",
        "colab_type": "code",
        "colab": {
          "base_uri": "https://localhost:8080/",
          "height": 1071
        },
        "outputId": "7cd22ccb-b377-4f7f-8d0e-f738cd47c351"
      },
      "cell_type": "code",
      "source": [
        ""
      ],
      "execution_count": 50,
      "outputs": [
        {
          "output_type": "execute_result",
          "data": {
            "text/plain": [
              "na    1859239\n",
              "49     187678\n",
              "04     147320\n",
              "03     136572\n",
              "01     118175\n",
              "02     116151\n",
              "61      74973\n",
              "69      50123\n",
              "08      48060\n",
              "65      43220\n",
              "87      40084\n",
              "21      36015\n",
              "79      34727\n",
              "36      32425\n",
              "54      31386\n",
              "51      28945\n",
              "14      28417\n",
              "50      23003\n",
              "10      22421\n",
              "84      22006\n",
              "07      19888\n",
              "40      17565\n",
              "73      17404\n",
              "18      15599\n",
              "43      14125\n",
              "52      13703\n",
              "53      13163\n",
              "85      13078\n",
              "\\N      11511\n",
              "33      10501\n",
              "       ...   \n",
              "ЛУ          3\n",
              "VG          3\n",
              "T5          3\n",
              " Ю          2\n",
              "пр          2\n",
              "97          2\n",
              "B1          2\n",
              "R3          2\n",
              "Іл          2\n",
              "CA          2\n",
              "2-          2\n",
              "MD          2\n",
              "0ь          1\n",
              "за          1\n",
              "TX          1\n",
              " 7          1\n",
              "GU          1\n",
              "За          1\n",
              "BN          1\n",
              "DE          1\n",
              "A2          1\n",
              "3F          1\n",
              "AZ          1\n",
              "ЗА          1\n",
              "RG          1\n",
              "SE          1\n",
              "T6          1\n",
              "SW          1\n",
              " B          1\n",
              "HU          1\n",
              "Name: tenderers_address_postalCode, Length: 159, dtype: int64"
            ]
          },
          "metadata": {
            "tags": []
          },
          "execution_count": 50
        }
      ]
    },
    {
      "metadata": {
        "id": "uTtAkHIe7XKk",
        "colab_type": "code",
        "colab": {}
      },
      "cell_type": "code",
      "source": [
        "df['tenderers_address_postalCode']=df['tenderers_address_postalCode'].astype(str).str[:2]"
      ],
      "execution_count": 0,
      "outputs": []
    },
    {
      "metadata": {
        "id": "FIJM4N3KXP6F",
        "colab_type": "code",
        "colab": {
          "base_uri": "https://localhost:8080/",
          "height": 34
        },
        "outputId": "f1304dd4-3b81-4218-bdb1-151e38f52d1c"
      },
      "cell_type": "code",
      "source": [
        ""
      ],
      "execution_count": 91,
      "outputs": [
        {
          "output_type": "execute_result",
          "data": {
            "text/plain": [
              "267463"
            ]
          },
          "metadata": {
            "tags": []
          },
          "execution_count": 91
        }
      ]
    },
    {
      "metadata": {
        "id": "b4m9IeJYV6Ds",
        "colab_type": "code",
        "colab": {
          "base_uri": "https://localhost:8080/",
          "height": 1071
        },
        "outputId": "ae785b47-8fcb-4c3e-e682-aa2463411004"
      },
      "cell_type": "code",
      "source": [
        "df['tenderers_name'].value_counts()"
      ],
      "execution_count": 88,
      "outputs": [
        {
          "output_type": "execute_result",
          "data": {
            "text/plain": [
              "Товариство з обмеженою відповідальністю \"Український папір\"                          16319\n",
              "ТОВ \"Епіцентр К\"                                                                     13674\n",
              "ТОВ \"БАДМ-Б\"                                                                         12453\n",
              "ПП \"ОККО КОНТРАКТ\"                                                                    8175\n",
              "Товариство з обмеженою відповідальністю \" Медичний Центр \"М.Т.К.\"                     6309\n",
              "ТОВАРИСТВО З ОБМЕЖЕНОЮ ВІДПОВІДАЛЬНІСТЮ \"ЛІВАЙН ТОРГ\"                                 6238\n",
              "ПП ГЛАВТОРГ                                                                           4146\n",
              "ПП Торгпродсервіс                                                                     4055\n",
              "Общество с ограниченной ответственностью \"Электротехническая компания \"Техномрия\"     3838\n",
              "ТОВ Бадм-Б                                                                            3765\n",
              "ТОВ \"ІМЕД\"                                                                            3501\n",
              "ТОВ АЛЬЯНС ЕВОЛЮШН                                                                    3465\n",
              "Публічне акціонерне товариство \"БАЗИС\"                                                3318\n",
              "ТОВ \"СМС-УК\"                                                                          3207\n",
              "Дебют-центр ООО                                                                       3174\n",
              "ТОВ \"КомпаКом\"                                                                        3081\n",
              "ТОВ \"ДІАВЕСТЕНД КОМПЛЕКСНІ РІШЕННЯ\"                                                   2761\n",
              "Общество с ограниченной ответственностью  \"Украинский папир\"                          2613\n",
              "ТОВ Альянс Еволюшн                                                                    2611\n",
              "ПрАТ \"МЕДФАРКОМ-ЦЕНТР\"                                                                2525\n",
              "Комунальне підприємство \"Фармація\"                                                    2504\n",
              "ТОВ \"ВІДЖИ МЕДІКАЛ\"                                                                   2430\n",
              "ТОВ \"АВЕРС КАНЦЕЛЯРІЯ\"                                                                2421\n",
              "ТОВ Укравтозапчастина                                                                 2404\n",
              "ФОП Сергієнко Володимир Іванович                                                      2369\n",
              "ТОВ \"ПРОДИНФО\"                                                                        2361\n",
              "ТОВ Пром Гарант Плюс                                                                  2291\n",
              "ТОВ \"Екоіллічпродукт\"                                                                 2253\n",
              "ТОВ ТОРГОВЕЛЬНА КОМПАНІЯ КОНСТРУКТИВ                                                  2221\n",
              "Товариство з обмеженою відповідальністю \"Нафтотрейд Ресурс\"                           2208\n",
              "                                                                                     ...  \n",
              "ТОВАРИСТВО З ОБМЕЖЕНОЮ ВІДПОВІДАЛЬНІСТЮ \"БИСПИ\"                                          1\n",
              "ТОВ \"ЕКСПЕРТСЕРВІС УКРАЇНА\"                                                              1\n",
              "філія \" Підволочиський райавтодор\" ДП\"Тернопільський облавтодор\"                         1\n",
              "ФЛП Баранник Ілля Ігорович                                                               1\n",
              "ТОВАРИСТВО З ОБМЕЖЕНОЮ ВІДПОВІДАЛЬНІСТЮ \"ЕНЕРДЖІ КОНСТРАКШЕН ТМ\"                         1\n",
              "ТОВ ВІМТЕК                                                                               1\n",
              "ФОП \"МАРТИРОСЯН РОБЕРТ ЕДУАРДОВИЧ\"                                                       1\n",
              "Товариство З Обмеженою Відповідальністю \"Нпп Укрпромтехнологія\"                          1\n",
              "Общество с ограниченой ответственностью \"ВЕРНА\"                                          1\n",
              "ТОВ \"УНИКА-БУД\"                                                                          1\n",
              "ООО \"Торговий Дом \"Хазяїн\"                                                               1\n",
              "ТОВ Аква Прінт                                                                           1\n",
              "КИЄВО-СВЯТОШИНСЬКЕ РАЙОННЕ КОМУНАЛЬНЕ ПІДПРИЄМСТВО \"ШКІЛЬНІ ЇДАЛЬНІ\"                     1\n",
              "ПРИВАТНЕ АКЦІОНЕРНЕ ТОВАРИСТВО \"НІЖИНСЬКИЙ ДОСЛІДНО-МЕХАНІЧНИЙ ЗАВОД\"                    1\n",
              "ТОВ Юнгхайнріх Ліфт Трак                                                                 1\n",
              "ТОВ Спецшляхбуд юг                                                                       1\n",
              "ПФ \"МИР\"                                                                                 1\n",
              "ООО \"Донсо\"                                                                              1\n",
              "ПП \"ЗМ-Груп\"                                                                             1\n",
              "ПП ТПФ Гетьман                                                                           1\n",
              "ТОВАРИСТВО З ОБМЕЖЕНОЮ ВІДПОВІДАЛЬНІСТЮ \"ВІРА\"                                           1\n",
              "ФОП Заїка А.М.                                                                           1\n",
              "ТОВ \"КАСКАД-ДНIПРО ТОВАРИСТВО З ОБМЕЖЕНОЮ ВIДПОВIДАЛЬНIСТЮ\"                              1\n",
              "Приватне Підприємство \"Ладога 77\"                                                        1\n",
              "Полонська громадсько-політична газета редакціі\"Новий  шлях\"                              1\n",
              "ПРИВАТНЕ ПІДПРИЄМСТВО \"ПАРТА\"                                                            1\n",
              "ТОВАРИСТВО З ОБМЕЖЕНОЮ ВІДПОВІДАЛЬНІСТЮ \"ТОРГОВА МАРКА\"АВТОМОДУС\"                        1\n",
              "ФОП Хріновський Р.Р.                                                                     1\n",
              "ТОВ ПРАЙМАКСБУД                                                                          1\n",
              "«СТРАХОВА КОМПАНІЯ «ФІНЕКС»                                                              1\n",
              "Name: tenderers_name, Length: 109029, dtype: int64"
            ]
          },
          "metadata": {
            "tags": []
          },
          "execution_count": 88
        }
      ]
    },
    {
      "metadata": {
        "id": "relUDKvzM09q",
        "colab_type": "code",
        "colab": {}
      },
      "cell_type": "code",
      "source": [
        "df['tenders.procuringEntity_address_postalCode']=df['tenders.procuringEntity_address_postalCode'].astype(str).str[:2]\n",
        "table_postal_code={'Київ':['01', '02', '03', '04', '05', '06'],\n",
        "                  'Київська область':['07', '08', '09'],\n",
        "                  'Житомирська область':['10', '11', '12', '13'],\n",
        "                  'Черніговська область':['14', '15', '16', '17'],\n",
        "                  'Черкаська область':['18', '19', '20'],\n",
        "                  'Вінницька область':['21', '22', '23', '24'],\n",
        "                  'Кіровоградська область':['25', '26', '27', '28'],\n",
        "                  'Хмельницька область':['29', '30', '31', '32'],\n",
        "                  'Рівненська область': ['33', '34', '35'],\n",
        "                  'Полтавська область':['36', '37', '38', '39'],\n",
        "                  'Сумська область':['40', '41', '42'],\n",
        "                  'Волинська область':['43', '44', '45'],\n",
        "                  'Тернопольська область':['46', '47', '48'],\n",
        "                  'Дніпропетровська область':['49', '50', '51', '52', '53'],\n",
        "                  'Миколаївська область':['54', '55', '56', '57'],\n",
        "                  'Чернівецька область':['58', '59', '60'],\n",
        "                  'Харьківська область':['61', '62', '63', '64'],\n",
        "                  'Одеська область':['65', '66', '67', '68'],\n",
        "                  'Запоріжська область':['69', '70', '71', '72'],\n",
        "                  'Херсонська область':['73', '74', '75'],\n",
        "                  'Івано-Франківська область':['76', '77', '78'],\n",
        "                  'Львівська область':['79', '80', '81', '82'],\n",
        "                  'Донецька область':['83', '84', '85', '86', '87'],\n",
        "                  'Закарпатська область':['88', '89', '90'],\n",
        "                  'Луганська область':['91', '92', '93', '94'],\n",
        "                  'Автономна республіка Крим':['95', '96', '97', '98'],\n",
        "                  'Севастопіль':['99']}\n",
        "regions=dict()\n",
        "for key,value in table_postal_code.items():\n",
        "    for item in value:\n",
        "        regions[item]=key\n",
        "def get_region(raw,regions):\n",
        "    try:\n",
        "        raw['region']=regions[raw['tenders.procuringEntity_address_postalCode']]\n",
        "    except:  \n",
        "        raw['region']=np.nan\n",
        "    return raw\n",
        "df=df.apply(get_region,args=(regions,),axis=1)"
      ],
      "execution_count": 0,
      "outputs": []
    },
    {
      "metadata": {
        "id": "rV519cAq8HTM",
        "colab_type": "code",
        "colab": {}
      },
      "cell_type": "code",
      "source": [
        "class DataPreproccessing:\n",
        "    def __init__(self, data_source, churn_interval=90, start_period=None, end_period=None,start_data_unique=None):\n",
        "       \n",
        "        data_source=data_source[pd.to_datetime(data_source['new_date'])>=start_period]\n",
        "        data_source=data_source[pd.to_datetime(data_source['new_date'])<=end_period]\n",
        "        self.start_period=start_period\n",
        "        self.end_period=end_period\n",
        "        self.start_data_unique=start_data_unique\n",
        "        self.last_day = pd.to_datetime('2018-11-29')\n",
        "        self.divide_data = pd.to_datetime(self.end_period) - pd.DateOffset(days=churn_interval)\n",
        "        print(self.divide_data)\n",
        "        self.data_source = data_source[pd.to_datetime(data_source['new_date']) < self.divide_data]\n",
        "        \n",
        "        self.label_data = data_source[pd.to_datetime(data_source['new_date']) >= self.divide_data]\n",
        "        # вибираємо унікальних постачальників\n",
        "#         self.unique_id_data=self.data_source[(pd.to_datetime(self.data_source['new_date'])>=self.start_data_unique) & (pd.to_datetime(self.data_source['new_date'])<=self.divide_data)]\n",
        "        self.unique_data=self.data_source[pd.to_datetime(self.data_source['new_date'])>=self.start_data_unique]\n",
        "#         self.unique_data=self.unique_data[pd.to_datetime(self.unique_data['new_date'])<=self.divide_data]\n",
        "        self.unique_id = list(self.unique_data['participants'].value_counts().index)\n",
        "        # створюємо dataframe з колонкою унікальних постачальників і туди будемо додавати features\n",
        "        self.feature_data = pd.DataFrame(self.unique_id, columns=['unique_id'])\n",
        "        \n",
        "    def print_dates(self):\n",
        "        print('{0}:'.format((pd.to_datetime(self.divide_data)-pd.to_datetime(self.start_period)).days))\n",
        "        print('{0}:'.format((pd.to_datetime(self.end_period)-pd.to_datetime(self.start_period)).days))\n",
        "        print('Features: [{0}/{1})'.format(self.start_period,self.divide_data))\n",
        "        print('Unique_id: [{0}/{1})'.format(self.start_data_unique,self.divide_data))\n",
        "        print('Labeling: [{0}/{1}]'.format(self.divide_data,self.end_period))\n",
        "    \n",
        "    \n",
        "    \n",
        "    def cleaning(self):\n",
        "        \n",
        "        self.data_source['tenders.procuringEntity_address_postalCode']=self.data_source['tenders.procuringEntity_address_postalCode'].astype(str).str[:2]\n",
        "        self.data_source['tenderers_address_postalCode']=self.data_source['tenderers_address_postalCode'].astype(str).str[:2]\n",
        "        table_postal_code={'Київ':['01', '02', '03', '04', '05', '06'],\n",
        "                  'Київська область':['07', '08', '09'],\n",
        "                  'Житомирська область':['10', '11', '12', '13'],\n",
        "                  'Черніговська область':['14', '15', '16', '17'],\n",
        "                  'Черкаська область':['18', '19', '20'],\n",
        "                  'Вінницька область':['21', '22', '23', '24'],\n",
        "                  'Кіровоградська область':['25', '26', '27', '28'],\n",
        "                  'Хмельницька область':['29', '30', '31', '32'],\n",
        "                  'Рівненська область': ['33', '34', '35'],\n",
        "                  'Полтавська область':['36', '37', '38', '39'],\n",
        "                  'Сумська область':['40', '41', '42'],\n",
        "                  'Волинська область':['43', '44', '45'],\n",
        "                  'Тернопольська область':['46', '47', '48'],\n",
        "                  'Дніпропетровська область':['49', '50', '51', '52', '53'],\n",
        "                  'Миколаївська область':['54', '55', '56', '57'],\n",
        "                  'Чернівецька область':['58', '59', '60'],\n",
        "                  'Харьківська область':['61', '62', '63', '64'],\n",
        "                  'Одеська область':['65', '66', '67', '68'],\n",
        "                  'Запоріжська область':['69', '70', '71', '72'],\n",
        "                  'Херсонська область':['73', '74', '75'],\n",
        "                  'Івано-Франківська область':['76', '77', '78'],\n",
        "                  'Львівська область':['79', '80', '81', '82'],\n",
        "                  'Донецька область':['83', '84', '85', '86', '87'],\n",
        "                  'Закарпатська область':['88', '89', '90'],\n",
        "                  'Луганська область':['91', '92', '93', '94'],\n",
        "                  'Автономна республіка Крим':['95', '96', '97', '98'],\n",
        "                  'Севастопіль':['99']}\n",
        "        regions=dict()\n",
        "        for key,value in table_postal_code.items():\n",
        "            for item in value:\n",
        "              regions[item]=key\n",
        "        def get_region(raw,regions):\n",
        "            try:\n",
        "              raw['region']=regions[raw['tenders.procuringEntity_address_postalCode']]\n",
        "            except:  \n",
        "              raw['region']=np.nan\n",
        "            return raw\n",
        "        self.data_source=self.data_source.apply(get_region,args=(regions,),axis=1)\n",
        "        def get_region_supp(raw,regions):\n",
        "            try:\n",
        "              raw['region_supp']=regions[raw['tenderers_address_postalCode']]\n",
        "            except:  \n",
        "              raw['region_supp']=np.nan\n",
        "            return raw\n",
        "        self.data_source=self.data_source.apply(get_region_supp,args=(regions,),axis=1)\n",
        "        print('regions updated')\n",
        "        \n",
        "    def split_into_batches(self, n=20000, filename=None):\n",
        "        \n",
        "        self.cleaning()\n",
        "        feature_batches = list()\n",
        "        n_iter = int(np.ceil(self.feature_data.shape[0] / n))\n",
        "        for i in range(n_iter):\n",
        "            start_time = time.time()\n",
        "            print('Batch {0}-{1}:'.format(i * n, (i + 1) * n))\n",
        "            unique_id = self.feature_data.iloc[i * n:(i + 1) * n]['unique_id'].values\n",
        "            feature_df = pd.DataFrame(unique_id, columns=['unique_id'])\n",
        "            feature_batches.append(feature_df)\n",
        "            # part of data_source\n",
        "            df_ = self.data_source.loc[self.data_source['participants'].isin(unique_id)]\n",
        "            print('Unique_supp:{0}-{1}'.format(len(unique_id), df_.shape[0]))\n",
        "            df_ = df_.sort_values(by='new_date')\n",
        "            self.divide_data = str(self.divide_data)[:10]\n",
        "\n",
        "            # features:\n",
        "            def get_most_common_name(raw,df):\n",
        "                data=df[df['participants']==raw['unique_id']][['awards.suppliers_identifier_legalName','tenderers_name','awards.suppliers_name']]\n",
        "                data['common_name']=data.apply(lambda raw: raw['tenderers_name'] if pd.notnull(raw['tenderers_name']) else (raw['awards.suppliers_identifier_legalName'] if raw['awards.suppliers_identifier_legalName']!='\\\\N' else raw['awards.suppliers_name']),axis=1)\n",
        "                z=list(data['common_name'].values)\n",
        "                d=dict()\n",
        "                for item in z:\n",
        "                  if item not in d.keys():\n",
        "                    d[item]=z.count(item)\n",
        "                max_=0\n",
        "                max_name=''\n",
        "                for key,value in d.items():\n",
        "                  if value>max_:\n",
        "                    max_=value\n",
        "                    max_name=key\n",
        "                raw['common_name']=max_name\n",
        "                return raw\n",
        "            feature_batches[i] = feature_batches[i].apply(get_most_common_name, args=(df_[['participants','awards.suppliers_identifier_legalName','tenderers_name','awards.suppliers_name']],),axis=1)\n",
        "            # 0. First activity\n",
        "            # 1. Last activity\n",
        "            def get_last_activity(raw, data,eps=0.7):\n",
        "                date=data[data['participants'] == raw['unique_id']]\n",
        "                dates=date['new_date'].values\n",
        "                # favourite host\n",
        "                try:\n",
        "                  if date['tenders.procuringEntity_identifier_id'].value_counts().iloc[0]/date.shape[0] >=eps:\n",
        "                    raw['favourite_host']=1\n",
        "                  else:\n",
        "                    raw['favourite_host']=0\n",
        "                  raw['count_unique_hosts']=date['tenders.procuringEntity_identifier_id'].value_counts().shape[0]\n",
        "                except:\n",
        "                  raw['favourite_host']=np.nan\n",
        "                  raw['count_unique_hosts']=np.nan\n",
        "                \n",
        "                \n",
        "                raw['unique_regions']=len(set(date['region'].values))\n",
        "                # get supp region \n",
        "                for code in date['region_supp'].values:\n",
        "                  if pd.notnull(code):\n",
        "                    raw['supp_region']=code\n",
        "#                 raw['last_activity_date'] = dates[-1]\n",
        "                try:\n",
        "                    raw['first_activity_days'] = (\n",
        "                        pd.to_datetime(self.divide_data) - pd.to_datetime(dates[0])).days\n",
        "                    raw['last_activity_days'] = (\n",
        "                        pd.to_datetime(self.divide_data) - pd.to_datetime(dates[-1])).days\n",
        "                    if len(dates)!=1:\n",
        "                      raw['average_activity']=(pd.to_datetime(dates[-1])-pd.to_datetime(dates[0])).days/(len(dates)-1)\n",
        "                    else:\n",
        "                      raw['average_activity']='?'\n",
        "                except:\n",
        "                    print('--------------')\n",
        "                    raw['average_activity'] = '?'\n",
        "                    \n",
        "                return raw\n",
        "\n",
        "            feature_batches[i] = feature_batches[i].apply(get_last_activity, args=(df_[['participants','new_date','tenders.procuringEntity_identifier_id','tenders.id','region','region_supp']],0.75,),\n",
        "                                                          axis=1)\n",
        "            feature_batches[i]['last_activity_days'] = feature_batches[i].apply(\n",
        "                lambda x: 0 if x['last_activity_days'] < 0 else x['last_activity_days'], axis=1)\n",
        "            print(\" --- %s seconds ---\" % (time.time() - start_time))\n",
        "\n",
        "            # 2. Average activity\n",
        "#             def get_average_activity(raw, data):\n",
        "#                 dates_ = list(data[data['participants'] == raw['unique_id']]['new_date'].values)\n",
        "#                 try:\n",
        "#                     raw['average_activity'] = (pd.to_datetime(dates_[-1]) - pd.to_datetime(dates_[0])).days / len(dates_)\n",
        "#                 except:\n",
        "#                     raw['average_activity'] = np.nan\n",
        "#                 return raw\n",
        "\n",
        "#             feature_batches[i] = feature_batches[i].apply(get_average_activity, args=(df_[['participants','new_date']],),\n",
        "#                                                           axis=1)\n",
        "\n",
        "            # 3. Count lots\n",
        "            freq = df_['participants'].value_counts()\n",
        "\n",
        "            def count_lots(raw, frequency):\n",
        "                raw['count_lots'] = frequency[raw['unique_id']]\n",
        "                return raw\n",
        "\n",
        "            feature_batches[i] = feature_batches[i].apply(count_lots, args=(freq,), axis=1)\n",
        "\n",
        "            # 4. Win, lose\n",
        "            frequency = df_[df_['winner'] == 1]['participants'].value_counts()\n",
        "            print(\" --- %s seconds ---\" % (time.time() - start_time))\n",
        "            def win_lose(raw, frequency):\n",
        "                # use try bsc if index not in frequency 'win'=0\n",
        "                try:\n",
        "                    raw['win'] = frequency[raw['unique_id']]\n",
        "                except:\n",
        "                    raw['win'] = 0\n",
        "                return raw\n",
        "\n",
        "            feature_batches[i] = feature_batches[i].apply(win_lose, args=(\n",
        "                frequency,), axis=1)\n",
        "            feature_batches[i]['lose'] = feature_batches[i]['count_lots'] - feature_batches[i]['win']\n",
        "            print(\" --- %s seconds ---\" % (time.time() - start_time))\n",
        "#             5. Count win open\n",
        "\n",
        "            frequency = df_.loc[(df_['winner'] == 1) & (df_['tenders.procurementMethod'] == 'open')][\n",
        "                'participants'].value_counts()\n",
        "\n",
        "            def count_win_open(raw, frequency):\n",
        "                try:\n",
        "                    raw['win_open'] = frequency[raw['unique_id']]\n",
        "                except:\n",
        "                    raw['win_open'] = 0\n",
        "                return raw\n",
        "\n",
        "            feature_batches[i] = feature_batches[i].apply(count_win_open, args=(\n",
        "                frequency,), axis=1)\n",
        "            feature_batches[i]['win_not_open'] = feature_batches[i]['win'] - feature_batches[i]['win_open']\n",
        "            print(\" --- %s seconds ---\" % (time.time() - start_time))\n",
        "#             6. Count lose open\n",
        "            frequency = df_.loc[(df_['winner'] == 0) & (df_['tenders.procurementMethod'] == 'open')][\n",
        "                'participants'].value_counts()\n",
        "\n",
        "            def count_lose_open(raw, frequency):\n",
        "                try:\n",
        "                    raw['lose_open'] = frequency[raw['unique_id']]\n",
        "                except:\n",
        "                    raw['lose_open'] = 0\n",
        "                return raw\n",
        "\n",
        "            feature_batches[i] = feature_batches[i].apply(count_lose_open, args=(\n",
        "                frequency,), axis=1)\n",
        "#             feature_batches[i]['lose_not_open'] = feature_batches[i]['lose'] - feature_batches[i]['lose_open']\n",
        "            print(\" --- %s seconds ---\" % (time.time() - start_time))\n",
        "            # 7. Average economy\n",
        "            data = df_[df_['winner'] == 1][\n",
        "                ['participants', 'awards.value_amount', 'lots.value_amount']]\n",
        "            data['economy_value'] = data['lots.value_amount'] - data['awards.value_amount']\n",
        "            data['economy_percent'] = data['awards.value_amount'] / data['lots.value_amount']\n",
        "\n",
        "            def get_economy(raw, data):\n",
        "                d = data[data['participants'] == raw['unique_id']]\n",
        "                raw['economy_value'] = np.nanmean(d['economy_value'])\n",
        "                raw['average_winner_price']=np.nansum(d['awards.value_amount'])/d.shape[0]\n",
        "                raw['economy_percent'] = np.nanmean(d['economy_percent'])\n",
        "                return raw\n",
        "\n",
        "            feature_batches[i] = feature_batches[i].apply(get_economy, args=(data,), axis=1)\n",
        "#             8. Get label\n",
        "            participants = list(self.label_data['participants'].value_counts().index)\n",
        "\n",
        "            def get_y(raw, participants):\n",
        "              if raw['unique_id'] in participants:\n",
        "                  raw['y'] = 1\n",
        "              else:\n",
        "                  raw['y'] = 0\n",
        "              return raw\n",
        "#             9. Get favourite hosts\n",
        "            feature_batches[i] = feature_batches[i].apply(get_y, args=(participants,), axis=1)\n",
        "#             def favourite_percent(raw, data, eps = 0.7):\n",
        "#                 d = data[data['participants']==raw['unique_id']].drop_duplicates('tenders.id')\n",
        "#                 try:\n",
        "#                   if d['tenders.procuringEntity_identifier_id'].value_counts().iloc[0]/d.shape[0] >=eps:\n",
        "#                     raw['favourite_host']=1\n",
        "#                   else:\n",
        "#                     raw['favourite_host']=0\n",
        "#                     raw['count_unique_hosts']=d['tenders.procuringEntity_identifier_id'].value_counts().shape[0]\n",
        "#                 except:\n",
        "#                   raw['favourite_host']=np.nan\n",
        "#                   raw['count_unique_hosts']=np.nan\n",
        "#                 del d\n",
        "#                 return raw\n",
        "#             feature_batches[i] = feature_batches[i].apply(favourite_percent, args=(df_[['participants', 'tenders.id', 'tenders.procuringEntity_identifier_id']],0.75,), axis=1)\n",
        "            # 10. Get unique region\n",
        "            print(\" Batch %s seconds ---\" % (time.time() - start_time))\n",
        "        if filename:\n",
        "            print(f'write to csv')\n",
        "            feature_batches[i].to_csv(filename + '{0}'.format(i) + '.csv', index=False)\n",
        "\n",
        "        \n",
        "        # concat dataframes into one\n",
        "        print('Concat')\n",
        "        all_batches_df = pd.concat(feature_batches)\n",
        "        self.feature_data = all_batches_df.copy()\n",
        "        if filename:\n",
        "            print('write to csv_all')\n",
        "            all_batches_df.to_csv(filename + '_all.csv', index=False)\n",
        "        print(\" --- %s seconds ---\" % (time.time() - start_time))\n",
        "    def get_label(self):\n",
        "        participants = list(self.label_data['participants'].value_counts().index)\n",
        "\n",
        "        def get_y(raw, participants):\n",
        "            if raw['unique_id'] in participants:\n",
        "                raw['y'] = 1\n",
        "            else:\n",
        "                raw['y'] = 0\n",
        "            return raw\n",
        "\n",
        "        self.feature_data = self.feature_data.apply(get_y, args=(participants,), axis=1)\n"
      ],
      "execution_count": 0,
      "outputs": []
    },
    {
      "metadata": {
        "id": "y1ABSfek9iKl",
        "colab_type": "code",
        "colab": {}
      },
      "cell_type": "code",
      "source": [
        "col=['winner','tenders.auctionPeriod_startDate','contracts.dateSigned',\n",
        "     'awards.date','participants','date_from_id','contracts.value_amount','tenders.procurementMethod','contracts.status','awards.value_amount','tenders.id','tenders.procuringEntity_identifier_id','lots.value_amount']"
      ],
      "execution_count": 0,
      "outputs": []
    },
    {
      "metadata": {
        "id": "Ra2MjrLbA061",
        "colab_type": "code",
        "colab": {
          "base_uri": "https://localhost:8080/",
          "height": 34
        },
        "outputId": "ce6e0eba-43a4-4ff8-db95-79223afe697d"
      },
      "cell_type": "code",
      "source": [
        "start='2016-07-01'\n",
        "divide=pd.to_datetime('2016-12-29')-pd.DateOffset(days=180)\n",
        "print(divide)"
      ],
      "execution_count": 97,
      "outputs": [
        {
          "output_type": "stream",
          "text": [
            "2016-07-02 00:00:00\n"
          ],
          "name": "stdout"
        }
      ]
    },
    {
      "metadata": {
        "id": "8XiitnwUz2hf",
        "colab_type": "code",
        "colab": {
          "base_uri": "https://localhost:8080/",
          "height": 170
        },
        "outputId": "675fe4b6-808b-463a-ec77-4e790489df93"
      },
      "cell_type": "code",
      "source": [
        "prepr = DataPreproccessing(df.iloc[:100000],start_period='2016-07-01',end_period='2016-12-29',start_data_unique='2016-07-01',churn_interval=90)\n",
        "prepr.print_dates()\n",
        "prepr.split_into_batches(n=10000)\n"
      ],
      "execution_count": 0,
      "outputs": [
        {
          "output_type": "stream",
          "text": [
            "2016-09-30 00:00:00\n",
            "91:\n",
            "181:\n",
            "Features: [2016-07-01/2016-09-30 00:00:00)\n",
            "Unique_id: [2016-07-01/2016-09-30 00:00:00)\n",
            "Labeling: [2016-09-30 00:00:00/2016-12-29]\n",
            "regions updated\n",
            "Batch 0-10000:\n",
            "Unique_supp:2429-3139\n"
          ],
          "name": "stdout"
        }
      ]
    },
    {
      "metadata": {
        "id": "U144MkZ3E_r3",
        "colab_type": "code",
        "colab": {}
      },
      "cell_type": "code",
      "source": [
        "z_id=prepr.feature_data[prepr.feature_data['y']==0]['unique_id'].values"
      ],
      "execution_count": 0,
      "outputs": []
    },
    {
      "metadata": {
        "id": "bdOA_V7cFJo-",
        "colab_type": "code",
        "colab": {}
      },
      "cell_type": "code",
      "source": [
        "prepr1.feature_data[prepr1.feature_data['unique_id'].isin(z_id)]"
      ],
      "execution_count": 0,
      "outputs": []
    },
    {
      "metadata": {
        "id": "Ud9lJvYMCq1O",
        "colab_type": "code",
        "colab": {
          "base_uri": "https://localhost:8080/",
          "height": 85
        },
        "outputId": "a15ef456-5a06-40e9-b623-192bfe96d3af"
      },
      "cell_type": "code",
      "source": [
        "prepr1 = DataPreproccessing(df.iloc[:50000],start_period='2016-07-01',end_period='2017-03-30',start_data_unique='2016-09-30',churn_interval=90)\n",
        "prepr1.print_dates()\n",
        "# prepr1.split_into_batches(n=10000)"
      ],
      "execution_count": 88,
      "outputs": [
        {
          "output_type": "stream",
          "text": [
            "2016-12-30 00:00:00\n",
            "Features: [2016-07-01/2016-12-30 00:00:00]\n",
            "Unique_id: [2016-09-30/2016-12-30 00:00:00]\n",
            "Labeling: (2016-12-30 00:00:00/2017-03-30]\n"
          ],
          "name": "stdout"
        }
      ]
    }
  ]
}