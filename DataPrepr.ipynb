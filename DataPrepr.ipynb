{
  "nbformat": 4,
  "nbformat_minor": 0,
  "metadata": {
    "colab": {
      "name": "DataPrepr.ipynb",
      "version": "0.3.2",
      "provenance": [],
      "collapsed_sections": [],
      "include_colab_link": true
    },
    "kernelspec": {
      "name": "python3",
      "display_name": "Python 3"
    }
  },
  "cells": [
    {
      "cell_type": "markdown",
      "metadata": {
        "id": "view-in-github",
        "colab_type": "text"
      },
      "source": [
        "<a href=\"https://colab.research.google.com/github/ShykerBogdan/Prozzoro_project/blob/master/DataPrepr.ipynb\" target=\"_parent\"><img src=\"https://colab.research.google.com/assets/colab-badge.svg\" alt=\"Open In Colab\"/></a>"
      ]
    },
    {
      "metadata": {
        "id": "5NNgY4mELDf6",
        "colab_type": "code",
        "outputId": "823ddc2b-285f-4939-ee27-a9fa5d6ee9fa",
        "colab": {
          "base_uri": "https://localhost:8080/",
          "height": 122
        }
      },
      "cell_type": "code",
      "source": [
        "from google.colab import drive\n",
        "drive.mount('/content/gdrive')"
      ],
      "execution_count": 0,
      "outputs": [
        {
          "output_type": "stream",
          "text": [
            "Go to this URL in a browser: https://accounts.google.com/o/oauth2/auth?client_id=947318989803-6bn6qk8qdgf4n4g3pfee6491hc0brc4i.apps.googleusercontent.com&redirect_uri=urn%3Aietf%3Awg%3Aoauth%3A2.0%3Aoob&scope=email%20https%3A%2F%2Fwww.googleapis.com%2Fauth%2Fdocs.test%20https%3A%2F%2Fwww.googleapis.com%2Fauth%2Fdrive%20https%3A%2F%2Fwww.googleapis.com%2Fauth%2Fdrive.photos.readonly%20https%3A%2F%2Fwww.googleapis.com%2Fauth%2Fpeopleapi.readonly&response_type=code\n",
            "\n",
            "Enter your authorization code:\n",
            "··········\n",
            "Mounted at /content/gdrive\n"
          ],
          "name": "stdout"
        }
      ]
    },
    {
      "metadata": {
        "id": "ZNSTK99IXPll",
        "colab_type": "code",
        "colab": {}
      },
      "cell_type": "code",
      "source": [
        "import pandas as pd\n",
        "import time\n",
        "from datetime import datetime"
      ],
      "execution_count": 0,
      "outputs": []
    },
    {
      "metadata": {
        "id": "O_rqhjuhLMBb",
        "colab_type": "code",
        "outputId": "656f041d-639f-4685-8a00-d3b62e5ff9ce",
        "colab": {
          "base_uri": "https://localhost:8080/",
          "height": 88
        }
      },
      "cell_type": "code",
      "source": [
        "filename='/content/gdrive/My Drive/ML_proz/data_source.csv'\n",
        "df=pd.read_csv(filename)\n",
        "df.shape"
      ],
      "execution_count": 0,
      "outputs": [
        {
          "output_type": "stream",
          "text": [
            "/usr/local/lib/python3.6/dist-packages/IPython/core/interactiveshell.py:2718: DtypeWarning: Columns (1,5,14,15,16,17,18,20,24,38,48,50,51,53) have mixed types. Specify dtype option on import or set low_memory=False.\n",
            "  interactivity=interactivity, compiler=compiler, result=result)\n"
          ],
          "name": "stderr"
        },
        {
          "output_type": "execute_result",
          "data": {
            "text/plain": [
              "(3507778, 56)"
            ]
          },
          "metadata": {
            "tags": []
          },
          "execution_count": 3
        }
      ]
    },
    {
      "metadata": {
        "id": "3laJc8A-35Hx",
        "colab_type": "code",
        "colab": {}
      },
      "cell_type": "code",
      "source": [
        "freq = df['participants'].value_counts()\n",
        "\n",
        "def count_lots(raw, frequency):\n",
        "  raw['count_lots'] = frequency[raw['participants']]\n",
        "  return raw\n",
        "\n",
        "feature_data = df.apply(count_lots, args=(freq,), axis=1)\n"
      ],
      "execution_count": 0,
      "outputs": []
    },
    {
      "metadata": {
        "id": "xF8VfObanZNz",
        "colab_type": "code",
        "outputId": "c1029557-2bbf-4e2d-c439-18cd3b98e565",
        "colab": {
          "base_uri": "https://localhost:8080/",
          "height": 323
        }
      },
      "cell_type": "code",
      "source": [
        "\n",
        "\n",
        "\n",
        "class DataPreproccessing:\n",
        "    def __init__(self, data_source, churn_interval, start_period=None, end_period=None):\n",
        "        self.last_day=pd.to_datetime('2018-11-29')\n",
        "        # для статистики постачальника вибираємо проміжок [start_period,end_period]\n",
        "        self.divide_data = pd.to_datetime('2018-12-20') - pd.DateOffset(days=churn_interval)\n",
        "        print(self.divide_data)\n",
        "        self.data_source = data_source[pd.to_datetime(data_source['date_from_id']) <= self.divide_data]\n",
        "        # для labeling вибираємо період [end_period, end_period+churn_interval]\n",
        "        self.label_data = data_source[pd.to_datetime(data_source['date_from_id']) > self.divide_data]\n",
        "        # вибираємо унікальних постачальників\n",
        "        self.unique_id = list(self.data_source['participants'].value_counts().index)\n",
        "        # створюємо dataframe з колонкою унікальних постачальників і туди будемо додавати features\n",
        "        self.feature_data = pd.DataFrame(self.unique_id, columns=['unique_id'])\n",
        "     \n",
        "    \n",
        "    def get_label(self):\n",
        "        participants=list(self.label_data['participants'].value_counts().index)\n",
        "        print(len(participants))\n",
        "        def get_y(raw,participants):\n",
        "          if raw['unique_id'] in participants:\n",
        "            raw['y']=1\n",
        "          else:\n",
        "            raw['y']=0\n",
        "          return raw\n",
        "        \n",
        "        self.feature_data=self.feature_data.apply(get_y,args=(participants,),axis=1)\n",
        "        \n",
        "    def create_features(self):\n",
        "        self.get_label()\n",
        "        self.data_source['winner']=self.data_source[['winner','contracts.status']].apply(lambda x: x['winner'] if pd.isnull(x['contracts.status']) else\n",
        "                                                                                         (0 if x['contracts.status']=='cancelled' else x['winner'] ),axis=1)\n",
        "        self.activity_date()\n",
        "#         ---------------\n",
        "        self.count_lots()\n",
        "        print('count_lots has already finish')\n",
        "        self.count_win_lose()\n",
        "        print('count_win_lose has already finish')\n",
        "        self.count_win_type_procedure()\n",
        "        print('count_win_type_procedure has already finish')\n",
        "        self.count_lose_type_procedure()\n",
        "        print('count_lose_type_procedure has already finish')\n",
        "        self.feature_data['count_lots_open']=self.feature_data['win_open']+self.feature_data['lose_open']\n",
        "        self.feature_data['count_lots_not_open']=self.feature_data['win_not_open']+self.feature_data['lose_not_open']\n",
        "        print('count_lots_open has already finish')\n",
        "        self.last_activity()\n",
        "    def count_lots(self):\n",
        "        freq = self.data_source['participants'].value_counts()\n",
        "\n",
        "        def count_lots(raw, frequency):\n",
        "            raw['count_lots'] = frequency[raw['unique_id']]\n",
        "            return raw\n",
        "\n",
        "        self.feature_data = self.feature_data.apply(count_lots, args=(freq,), axis=1)\n",
        "\n",
        "    def count_win_lose(self):\n",
        "        data=self.data_source[self.data_source['winner']==1]\n",
        "        frequency=data['participants'].value_counts()\n",
        "        \n",
        "        def win_lose(raw,frequency):\n",
        "            # use try bsc if index not in frequency 'win'=0\n",
        "            try:\n",
        "              raw['win']=frequency[raw['unique_id']]\n",
        "            except:\n",
        "              raw['win']=0\n",
        "            return raw\n",
        "            \n",
        "\n",
        "        self.feature_data = self.feature_data.apply(win_lose, args=(\n",
        "        frequency,),axis=1)\n",
        "        self.feature_data['lose']=self.feature_data['count_lots']-self.feature_data['win']\n",
        "        \n",
        "    # всьо в одну функцію\n",
        "    def count_win_type_procedure(self):\n",
        "        data=self.data_source[self.data_source['winner']==1]\n",
        "        data=data[data['tenders.procurementMethod']=='open']\n",
        "        frequency=data['participants'].value_counts()\n",
        "        def count_win_open(raw,frequency):\n",
        "            try:\n",
        "              raw['win_open']=frequency[raw['unique_id']]\n",
        "            except:\n",
        "              raw['win_open']=0\n",
        "            return raw\n",
        "              \n",
        "        self.feature_data = self.feature_data.apply(count_win_open, args=(\n",
        "        frequency,),axis=1)\n",
        "        print(\"--- %s seconds ---\" % (time.time() - start_time))\n",
        "        self.feature_data['win_not_open']=self.feature_data['win']-self.feature_data['win_open']\n",
        "    \n",
        "    \n",
        "    def count_lose_type_procedure(self):\n",
        "        data=self.data_source[self.data_source['winner']==0]\n",
        "        data=data[data['tenders.procurementMethod']=='open']\n",
        "        frequency=data['participants'].value_counts()\n",
        "        def count_lose_open(raw,frequency):\n",
        "            try:\n",
        "              raw['lose_open']=frequency[raw['unique_id']]\n",
        "            except:\n",
        "              raw['lose_open']=0\n",
        "            return raw\n",
        "              \n",
        "        self.feature_data = self.feature_data.apply(count_lose_open, args=(\n",
        "        frequency,),axis=1)\n",
        "        print(\"--- %s seconds ---\" % (time.time() - start_time))\n",
        "        self.feature_data['lose_not_open']=self.feature_data['lose']-self.feature_data['lose_open']\n",
        "    \n",
        "    \n",
        "    def activity_date(self):\n",
        "        f=['winner','tenders.auctionPeriod_startDate','contracts.dateSigned','date_from_id','awards.date']\n",
        "        self.data_source['new_date']=self.data_source[f].apply(lambda x:x[f[2]] if x[f[0]==1] else (x[f[3]] if pd.isnull(x[f[1]]) else x[f[1]] ),axis=1)\n",
        "        self.data_source['new_date']=self.data_source[['new_date']].apply(lambda x: x['new_date'][:10],axis=1)\n",
        "        self.data_source['new_date']=self.data_source[['new_date','date_from_id']].apply(lambda x: x['date_from_id'] if x['new_date']=='\\\\N' else x['new_date'],axis=1)\n",
        "        \n",
        "    def last_activity(self):\n",
        "        data=self.data_source[['participants','new_date']]\n",
        "        data['new_date'] =  pd.to_datetime(data['new_date'], format='%Y/%m/%d')\n",
        "        data=data.sort_values(by='new_date')\n",
        "        self.divide_data=str(self.divide_data)[:10]\n",
        "        \n",
        "        def get_last_activity(raw,data):\n",
        "          raw['last_activity_date']=str(data[data['participants']==raw['unique_id']].iloc[-1]['new_date'])[:10]\n",
        "          raw['last_activity_days']=(pd.to_datetime(self.divide_data)-pd.to_datetime(raw['last_activity_date'])).days\n",
        "          return raw\n",
        "        \n",
        "        \n",
        "        self.feature_data=self.feature_data.apply(get_last_activity,args=(data,),axis=1)\n",
        "        self.feature_data['last_activity_days']=self.feature_data.apply(lambda x: 0 if x['last_activity_days']<0 else x['last_activity_days'],axis=1)\n",
        "          \n",
        "          \n",
        "start_time = time.time()\n",
        "prepr = DataPreproccessing(df.iloc[:1000], 5)\n",
        "prepr.create_features()\n",
        "d = prepr.feature_data\n",
        "print(d['y'].value_counts())\n",
        "print(d['lots_count'].value_counts())\n",
        "print(\"--- %s seconds ---\" % (time.time() - start_time))\n",
        "# 158 sec - 30000"
      ],
      "execution_count": 0,
      "outputs": [
        {
          "output_type": "stream",
          "text": [
            "2017-08-07 00:00:00\n",
            "581\n",
            "count_lots has already finish\n",
            "count_win_lose has already finish\n",
            "--- 1.2714004516601562 seconds ---\n",
            "count_win_type_procedure has already finish\n",
            "--- 1.5596635341644287 seconds ---\n",
            "count_lose_type_procedure has already finish\n",
            "count_lots_open has already finish\n"
          ],
          "name": "stdout"
        },
        {
          "output_type": "stream",
          "text": [
            "/usr/local/lib/python3.6/dist-packages/ipykernel_launcher.py:118: SettingWithCopyWarning: \n",
            "A value is trying to be set on a copy of a slice from a DataFrame.\n",
            "Try using .loc[row_indexer,col_indexer] = value instead\n",
            "\n",
            "See the caveats in the documentation: http://pandas.pydata.org/pandas-docs/stable/indexing.html#indexing-view-versus-copy\n"
          ],
          "name": "stderr"
        },
        {
          "output_type": "stream",
          "text": [
            "0    355\n",
            "1     19\n",
            "Name: y, dtype: int64\n",
            "--- 2.668469190597534 seconds ---\n"
          ],
          "name": "stdout"
        }
      ]
    }
  ]
}